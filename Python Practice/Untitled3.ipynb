{
 "cells": [
  {
   "cell_type": "code",
   "execution_count": 22,
   "metadata": {},
   "outputs": [
    {
     "name": "stdout",
     "output_type": "stream",
     "text": [
      "1\n",
      "1"
     ]
    }
   ],
   "source": [
    "import numpy as np \n",
    "import pandas as pd\n",
    "\n",
    "# Read the input\n",
    "n = int(input())\n",
    "\n",
    "# Write your code below\n",
    "def binary(n):    \n",
    "    if n <= 1:\n",
    "        print(n, end='')\n",
    "    else:\n",
    "        binary(n//2)\n",
    "        print(n%2, end='')\n",
    "        \n",
    "binary(n)\n",
    "        \n"
   ]
  },
  {
   "cell_type": "code",
   "execution_count": null,
   "metadata": {},
   "outputs": [],
   "source": [
    "pd.set_option('display.max_columns', 500)"
   ]
  },
  {
   "cell_type": "code",
   "execution_count": 55,
   "metadata": {},
   "outputs": [
    {
     "name": "stdout",
     "output_type": "stream",
     "text": [
      "['PassengerId', 'Pclass', 'Name', 'Sex']\n",
      "    Age Cabin Embarked     Fare  Parch  SibSp   Ticket\n",
      "0  34.5   NaN        Q   7.8292      0      0   330911\n",
      "1  47.0   NaN        S   7.0000      0      1   363272\n",
      "2  62.0   NaN        Q   9.6875      0      0   240276\n",
      "3  27.0   NaN        S   8.6625      0      0   315154\n",
      "4  22.0   NaN        S  12.2875      1      1  3101298\n",
      "5  14.0   NaN        S   9.2250      0      0     7538\n"
     ]
    }
   ],
   "source": [
    "import pandas as pd\n",
    "import ast,sys\n",
    "pd.set_option('display.max_columns', 500)\n",
    "df=pd.read_csv(\"https://media-doselect.s3.amazonaws.com/generic/X0kvr3wEYXRzONE5W37xWWYYA/test.csv\")\n",
    "input_str = input()\n",
    "to_omit = ast.literal_eval(input_str)\n",
    "#write your code here\n",
    "print(df.loc[:5, sorted([c for c in df.columns if c not in to_omit])])"
   ]
  },
  {
   "cell_type": "code",
   "execution_count": 56,
   "metadata": {},
   "outputs": [
    {
     "name": "stdout",
     "output_type": "stream",
     "text": [
      "4\n",
      "number entered is prime\n"
     ]
    }
   ],
   "source": [
    "n=int(input())\n",
    "#write your code here\n",
    "def is_prime(n):\n",
    "    for i in range(2, int(n**0.5)):\n",
    "        if n%i == 0:\n",
    "            return False\n",
    "            \n",
    "    return True\n",
    "\n",
    "if is_prime(n):\n",
    "    print('number entered is prime')\n",
    "else:\n",
    "    print('number entered is not prime')"
   ]
  },
  {
   "cell_type": "code",
   "execution_count": 62,
   "metadata": {},
   "outputs": [
    {
     "name": "stdout",
     "output_type": "stream",
     "text": [
      "1, 2, 3, 4\n"
     ]
    }
   ],
   "source": [
    "l = [1, 2, 3, 4]\n",
    "print(', '.join([str(i) for i in l]))"
   ]
  },
  {
   "cell_type": "code",
   "execution_count": 63,
   "metadata": {},
   "outputs": [
    {
     "name": "stdout",
     "output_type": "stream",
     "text": [
      "['d', 'd', 'f', 'j', 'j', 'j', 'k', 'k', 'k', 'n', 'n', 'v']\n"
     ]
    }
   ],
   "source": [
    "str1 = \"jkfnkdjnvkjd\"\n",
    "print(sorted(str1))"
   ]
  }
 ],
 "metadata": {
  "kernelspec": {
   "display_name": "Python 3",
   "language": "python",
   "name": "python3"
  },
  "language_info": {
   "codemirror_mode": {
    "name": "ipython",
    "version": 3
   },
   "file_extension": ".py",
   "mimetype": "text/x-python",
   "name": "python",
   "nbconvert_exporter": "python",
   "pygments_lexer": "ipython3",
   "version": "3.6.4"
  }
 },
 "nbformat": 4,
 "nbformat_minor": 2
}
