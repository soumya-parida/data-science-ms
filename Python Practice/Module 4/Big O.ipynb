{
 "cells": [
  {
   "cell_type": "markdown",
   "metadata": {},
   "source": [
    "## Big-O Part-II ##"
   ]
  },
  {
   "cell_type": "code",
   "execution_count": 20,
   "metadata": {},
   "outputs": [
    {
     "name": "stdout",
     "output_type": "stream",
     "text": [
      "[15, 16, 17, 18, 11, 12, 13, 14]\n",
      "12\n",
      "-1\n"
     ]
    }
   ],
   "source": [
    "import ast\n",
    "sorted_list = ast.literal_eval(input())\n",
    "key = int(input())\n",
    "\n",
    "l = 0\n",
    "r = len(sorted_list)-1\n",
    "\n",
    "index = -1\n",
    "if not(r == -1):\n",
    "    while(l <= r):\n",
    "        mid = (l+r)//2\n",
    "        if sorted_list[mid] == key:\n",
    "            index = mid\n",
    "            break    \n",
    "        if sorted_list[l] < sorted_list[mid]:#left of list is sorted.\n",
    "            if sorted_list[mid] < key:            \n",
    "                l = mid + 1\n",
    "            else:\n",
    "        elif sorted_list[mid] < sorted_list[r]:#Right of list is sorted.\n",
    "            if sorted_list[mid] < key:\n",
    "            \n",
    "print(index)"
   ]
  },
  {
   "cell_type": "code",
   "execution_count": 41,
   "metadata": {},
   "outputs": [
    {
     "name": "stdout",
     "output_type": "stream",
     "text": [
      "[40, 50, 60, 70, 10, 20, 30]\n",
      "1\n",
      "-1\n"
     ]
    }
   ],
   "source": [
    "import ast\n",
    "sorted_list = ast.literal_eval(input())\n",
    "key = int(input())\n",
    "\n",
    "def binary_search_rotated(sorted_list, key):\n",
    "    l = 0\n",
    "    r = len(sorted_list)-1\n",
    "   \n",
    "    index = -1\n",
    "    while l <= r:\n",
    "        mid = (l+r)//2\n",
    "        if sorted_list[mid] == key:\n",
    "            index = mid\n",
    "            break\n",
    "        elif sorted_list[l] <= sorted_list[mid]:\n",
    "            if key >= sorted_list[l] and key < sorted_list[mid]:\n",
    "                r = mid - 1 \n",
    "            else:\n",
    "                l = mid + 1\n",
    "        elif sorted_list[l] > sorted_list[mid]:\n",
    "            if key > sorted_list[mid] and key <= sorted_list[r]:\n",
    "                l = mid + 1\n",
    "            else:\n",
    "                r = mid - 1\n",
    "    return index\n",
    "print(binary_search_rotated(sorted_list, key))"
   ]
  },
  {
   "cell_type": "markdown",
   "metadata": {},
   "source": [
    "### Square Root ###"
   ]
  },
  {
   "cell_type": "code",
   "execution_count": 61,
   "metadata": {},
   "outputs": [
    {
     "name": "stdout",
     "output_type": "stream",
     "text": [
      "66\n",
      "8.1240\n",
      "8.12404\n"
     ]
    }
   ],
   "source": [
    "import math\n",
    "n=int(input())\n",
    "\n",
    "def square_root(n):\n",
    "    n = round(n, 4)\n",
    "    l = 1.00000\n",
    "    r = round(n, 4)\n",
    "    while round(l, 4) < round(r, 4):\n",
    "        mid = (l + r)/2\n",
    "        mid_sq = mid ** 2\n",
    "        if mid_sq == 5: \n",
    "            return round(mid, 4)\n",
    "        elif mid_sq > n:\n",
    "            r = mid \n",
    "        else:\n",
    "            l = mid\n",
    "    return round(l, 4)\n",
    "\n",
    "print(\"%.4f\" % square_root(n))\n",
    "print(\"%.5f\" % math.sqrt(n))"
   ]
  },
  {
   "cell_type": "code",
   "execution_count": 52,
   "metadata": {},
   "outputs": [
    {
     "name": "stdout",
     "output_type": "stream",
     "text": [
      "2.90\n"
     ]
    }
   ],
   "source": [
    "print(\"%.2f\" %(round(2.90, 2)))"
   ]
  },
  {
   "cell_type": "code",
   "execution_count": null,
   "metadata": {},
   "outputs": [],
   "source": [
    "import ast\n",
    "input_list = ast.literal_eval(input())\n",
    "n = int(input())\n",
    "\n",
    "#start writing your code from here\n",
    "def ternary_search(input_list, n):\n",
    "    l = 0\n",
    "    r = len(input_list) - 1\n",
    "    \n",
    "    while l <= r :\n",
    "        #print(input_list[l:r+1], l, r)\n",
    "        \n",
    "        if (r - l) < 2:\n",
    "            for i in range(l, r + 1):\n",
    "                if input_list[i] == n:\n",
    "                    return i\n",
    "            return -1\n",
    "        else:\n",
    "            mid1 = l + (r - l)//3\n",
    "            mid2 = l + 2*(r - l)//3\n",
    "            if input_list[mid1] == n:\n",
    "                return mid1\n",
    "            elif input_list[mid2] == n:\n",
    "                return mid2\n",
    "            elif n < input_list[mid1]:\n",
    "                r = mid1 - 1\n",
    "            elif n > input_list[mid2]:\n",
    "                l = mid2 + 1\n",
    "            else: # n > input_list[mid1] and n < input_list[mid2]\n",
    "                l = mid1 + 1\n",
    "                r = mid2 - 1\n",
    "    return -1 \n",
    "\n",
    "print(ternary_search(input_list, n))"
   ]
  },
  {
   "cell_type": "code",
   "execution_count": 3,
   "metadata": {},
   "outputs": [
    {
     "name": "stdout",
     "output_type": "stream",
     "text": [
      "7\n",
      "-0.431694\n"
     ]
    }
   ],
   "source": [
    "import math\n",
    "n=int(input())\n",
    "\n",
    "def find_x(n, k):    \n",
    "    l = round(-1, k)\n",
    "    r = round(0, k)\n",
    "    while round(l, k) < round(r, k):\n",
    "        mid = (l + r)/2\n",
    "        val = n ** mid + mid\n",
    "        if val == 0: \n",
    "            return round(mid, k)\n",
    "        elif val > 0:\n",
    "            r = mid \n",
    "        else:\n",
    "            l = mid\n",
    "    return round(l, k)\n",
    "\n",
    "print(\"%.6f\" % find_x(n, 6))\n"
   ]
  },
  {
   "cell_type": "code",
   "execution_count": 17,
   "metadata": {},
   "outputs": [
    {
     "name": "stdout",
     "output_type": "stream",
     "text": [
      "[13, 11, 8, 7, 6, 4, 3, 2, 1, 14, 15, 16, 17]\n",
      "32\n",
      "-1\n"
     ]
    }
   ],
   "source": [
    "#take input here\n",
    "import ast\n",
    "valley_list=ast.literal_eval(input())\n",
    "key=int(input())\n",
    "\n",
    "#start writing your code here\n",
    "def valley_binary(valley_list, key):\n",
    "    l = 0\n",
    "    r = len(valley_list) - 1\n",
    "    while l <= r:\n",
    "        #print(valley_list[l:r+1])\n",
    "        mid = (l + r)//2\n",
    "        if valley_list[mid] == key:\n",
    "            return mid\n",
    "        if valley_list[l] >= valley_list[mid - 1]:\n",
    "            if valley_list[l] >= key and valley_list[mid-1] <= key:\n",
    "                r = mid - 1\n",
    "            else:\n",
    "                l = mid + 1\n",
    "        else: # valley_list[mid + 1] <= valley_list[r]:\n",
    "            if key <= valley_list[r] and key >= valley_list[mid + 1]:\n",
    "                l = mid + 1\n",
    "            else:\n",
    "                r = mid - 1\n",
    "    return -1\n",
    "\n",
    "print(valley_binary(valley_list, key))\n",
    "            "
   ]
  },
  {
   "cell_type": "code",
   "execution_count": 29,
   "metadata": {},
   "outputs": [
    {
     "name": "stdout",
     "output_type": "stream",
     "text": [
      "9, 6, 3, \n",
      "5\n",
      "False\n"
     ]
    }
   ],
   "source": [
    "import ast\n",
    "input_list = ast.literal_eval(input())\n",
    "key = int(input())\n",
    "\n",
    "diff = input_list[1] - input_list[0]\n",
    "\n",
    "if key <= input_list[0]:\n",
    "    if (input_list[0] - key)%diff == 0:\n",
    "        print(True)\n",
    "    else:\n",
    "        print(False)\n",
    "elif key >= input_list[2]:\n",
    "    if (key - input_list[2])%diff == 0:\n",
    "        print(True)\n",
    "    else:\n",
    "        print(False)\n",
    "elif key == input_list[1]:\n",
    "    print(True)\n",
    "else:\n",
    "    print(False)"
   ]
  }
 ],
 "metadata": {
  "kernelspec": {
   "display_name": "Python 3",
   "language": "python",
   "name": "python3"
  },
  "language_info": {
   "codemirror_mode": {
    "name": "ipython",
    "version": 3
   },
   "file_extension": ".py",
   "mimetype": "text/x-python",
   "name": "python",
   "nbconvert_exporter": "python",
   "pygments_lexer": "ipython3",
   "version": "3.6.4"
  }
 },
 "nbformat": 4,
 "nbformat_minor": 2
}
