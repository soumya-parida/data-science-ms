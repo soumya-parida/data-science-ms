{
 "cells": [
  {
   "cell_type": "markdown",
   "metadata": {},
   "source": [
    "#Flatten a dictionary#\n",
    "Description\n",
    "Consider a nested dictionary as follows:\n",
    "\n",
    "{'Fruit': 1, 'Vegetable': {'Cabbage': 2, 'Cauliflower': 3}, 'Spices': 4}\n",
    "\n",
    "Your task is to flatten a nested dictionary and join the nested keys with the \"_\" character. For the above dictionary, the flattened dictionary would be as follows:\n",
    "\n",
    "{'Fruit': 1, 'Vegetable_Cabbage': 2, 'Vegetable_Cauliflower': 3, 'Spices': 4}\n",
    "\n",
    "\n",
    "\n",
    "The input will have a nested dictionary.\n",
    "\n",
    "The output should have two lists. The first list will have keys and the second list should have values. Both lists should be sorted.\n",
    "\n",
    "Sample Input:\n",
    "\n",
    "{'Fruit': 1, 'Vegetable': {'Cabbage': 2, 'Cauliflower': 3}, 'Spices': {'Chillies' : { 'Serrano': 5 , 'Pepper' : 6} , 'Masala' : { 'Garam' : 7, 'Powder' : 8} } }\n",
    "\n",
    "Sample Output:\n",
    "\n",
    "['Fruit', 'Spices', 'Vegetable_Cabbage', 'Vegetable_Cauliflower']\n",
    "[1, 2, 3, 4]\n",
    "\n",
    "\n",
    "You will find the inbuilt function isinstance() of python quite useful here. Read more about it here.\n",
    "\n",
    "Execution Time Limit\n",
    "Default."
   ]
  },
  {
   "cell_type": "code",
   "execution_count": 7,
   "metadata": {},
   "outputs": [
    {
     "name": "stdout",
     "output_type": "stream",
     "text": [
      "{'Fruit': 1, 'Vegetable': {'Cabbage': 2, 'Cauliflower': 3}, 'Spices': {'Chillies' : { 'Serrano': 5 , 'Pepper' : 6} , 'Masala' : { 'Garam' : 7, 'Powder' : 8} } }\n",
      "['Fruit', 'Spices_Chillies_Pepper', 'Spices_Chillies_Serrano', 'Spices_Masala_Garam', 'Spices_Masala_Powder', 'Vegetable_Cabbage', 'Vegetable_Cauliflower']\n",
      "[1, 2, 3, 5, 6, 7, 8]\n"
     ]
    }
   ],
   "source": [
    "import ast,sys\n",
    "input_str = input() #sys.stdin.read()\n",
    "input_dict = dict(ast.literal_eval(input_str))\n",
    "def flatten_dict(dd, separator='_', prefix=''):\n",
    "    out = {}\n",
    "    #complete this function\n",
    "    for item in dd:\n",
    "        if isinstance(dd[item], dict):\n",
    "            out.update(flatten_dict(dd[item], '_', prefix + item + separator))\n",
    "        else:\n",
    "            out.update({prefix+item:dd[item]})\n",
    "    return out\n",
    "\n",
    "out1=list(flatten_dict(input_dict).keys())\n",
    "out2=list(flatten_dict(input_dict).values())\n",
    "out1.sort()\n",
    "out2.sort()\n",
    "print(out1)\n",
    "print(out2)"
   ]
  }
 ],
 "metadata": {
  "kernelspec": {
   "display_name": "Python 3",
   "language": "python",
   "name": "python3"
  },
  "language_info": {
   "codemirror_mode": {
    "name": "ipython",
    "version": 3
   },
   "file_extension": ".py",
   "mimetype": "text/x-python",
   "name": "python",
   "nbconvert_exporter": "python",
   "pygments_lexer": "ipython3",
   "version": "3.6.4"
  }
 },
 "nbformat": 4,
 "nbformat_minor": 2
}
