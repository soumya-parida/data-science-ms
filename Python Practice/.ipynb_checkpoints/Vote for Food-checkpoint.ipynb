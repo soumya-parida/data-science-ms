{
 "cells": [
  {
   "cell_type": "markdown",
   "metadata": {},
   "source": [
    "## Vote for Food\n",
    "**Description**\n",
    "Your team is going for camping and you are taking a vote to decide what food to pack for dinner.\n",
    "Everyone gets a vote and the food item that gets at least one more than half of the votes wins. None of the items wins if nothing gets at least one more than half votes. Assume that every person gets only one vote.<br>\n",
    "The input will contain a list of food items where each occurrence of an item represents one vote. You should print the winning food item as output. If there is no clear winner, print \"NOTA\". \n",
    "\n",
    "**Sample Input:**<br>\n",
    "[\"pasta\",\"pasta\",\"pasta\",\"pasta\",\"pasta\",\"paratha\",\"paratha\",\"paratha\"]<br>\n",
    "**Sample Output:**<br>\n",
    "pasta<br>\n",
    "<br>\n",
    "This question was asked in a Data Analyst interview.<br>\n",
    "Execution Time Limit<br>\n",
    "Default."
   ]
  },
  {
   "cell_type": "code",
   "execution_count": 5,
   "metadata": {},
   "outputs": [
    {
     "name": "stdout",
     "output_type": "stream",
     "text": [
      "[\"dosa\", \"dosa\", \"pasta\", \"idli\", \"pasta\",\"paratha\",\"paratha\",\"paratha\",\"paratha\",\"paratha\",\"paratha\"]\n",
      "paratha\n"
     ]
    }
   ],
   "source": [
    "import ast,sys\n",
    "input_str = input()#sys.stdin.read()\n",
    "votes = ast.literal_eval(input_str)\n",
    "\n",
    "ballot = {}\n",
    "winner = 'NOTA'\n",
    "for food in votes:\n",
    "    if food in ballot:\n",
    "        ballot[food] = ballot[food] + 1\n",
    "        if ballot[food] > (len(votes)//2):\n",
    "            winner = food\n",
    "            break\n",
    "    else:\n",
    "        ballot[food] = 1\n",
    "\n",
    "print(winner)"
   ]
  }
 ],
 "metadata": {
  "kernelspec": {
   "display_name": "Python 3",
   "language": "python",
   "name": "python3"
  },
  "language_info": {
   "codemirror_mode": {
    "name": "ipython",
    "version": 3
   },
   "file_extension": ".py",
   "mimetype": "text/x-python",
   "name": "python",
   "nbconvert_exporter": "python",
   "pygments_lexer": "ipython3",
   "version": "3.6.4"
  }
 },
 "nbformat": 4,
 "nbformat_minor": 2
}
