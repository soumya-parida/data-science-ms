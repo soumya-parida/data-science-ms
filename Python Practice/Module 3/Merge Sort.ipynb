{
 "cells": [
  {
   "cell_type": "markdown",
   "metadata": {},
   "source": [
    "### Merge Sort ###"
   ]
  },
  {
   "cell_type": "code",
   "execution_count": 11,
   "metadata": {},
   "outputs": [
    {
     "name": "stdout",
     "output_type": "stream",
     "text": [
      "[1, 2, 3, 3, 4, 5, 5, 6, 7, 8, 9, 10, 11, 12, 13]\n"
     ]
    }
   ],
   "source": [
    "#take input on your own\n",
    "import ast\n",
    "list1 = ast.literal_eval(input())\n",
    "list2 = ast.literal_eval(input())\n",
    "\n",
    "#write code to find merged list\n",
    "l1 = len(list1)\n",
    "l2 = len(list2)\n",
    "i = 0\n",
    "j = 0\n",
    "\n",
    "sorted_list = []\n",
    "while i < l1 and j < l2:\n",
    "    if list1[i] <= list2[j]:\n",
    "        sorted_list.append(list1[i])\n",
    "        i += 1\n",
    "    else:\n",
    "        sorted_list.append(list2[j])\n",
    "        j += 1\n",
    "\n",
    "if i == l1:\n",
    "    sorted_list.extend(list2[j:])\n",
    "if j == l2:\n",
    "    sorted_list.extend(list1[i:])\n",
    "    \n",
    "print(sorted_list)"
   ]
  }
 ],
 "metadata": {
  "kernelspec": {
   "display_name": "Python 3",
   "language": "python",
   "name": "python3"
  },
  "language_info": {
   "codemirror_mode": {
    "name": "ipython",
    "version": 3
   },
   "file_extension": ".py",
   "mimetype": "text/x-python",
   "name": "python",
   "nbconvert_exporter": "python",
   "pygments_lexer": "ipython3",
   "version": "3.6.4"
  }
 },
 "nbformat": 4,
 "nbformat_minor": 2
}
