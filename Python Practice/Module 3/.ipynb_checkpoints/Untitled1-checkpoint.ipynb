{
 "cells": [
  {
   "cell_type": "markdown",
   "metadata": {},
   "source": [
    "### Recursion ###"
   ]
  },
  {
   "cell_type": "code",
   "execution_count": 6,
   "metadata": {},
   "outputs": [
    {
     "name": "stdout",
     "output_type": "stream",
     "text": [
      "3\n",
      "6\n"
     ]
    }
   ],
   "source": [
    "#take input here\n",
    "num=int(input())\n",
    "\n",
    "#write the recurssive function to find the factorial of num\n",
    "def factorial(n):\n",
    "    #find and RETURN factorial of num\n",
    "    if n == 0:\n",
    "        return 1\n",
    "    return n * factorial(n-1)\n",
    "    \n",
    "#function ends here\n",
    "\n",
    "print(factorial(num))"
   ]
  },
  {
   "cell_type": "code",
   "execution_count": 12,
   "metadata": {},
   "outputs": [
    {
     "name": "stdout",
     "output_type": "stream",
     "text": [
      "20,100,15\n",
      "14245\n"
     ]
    }
   ],
   "source": [
    "input_str = input()\n",
    "input_list = input_str.split(',')\n",
    "\n",
    "a = int(input_list[0])\n",
    "b = int(input_list[1])\n",
    "c = int(input_list[2])\n",
    "\n",
    "# write code here\n",
    "\n",
    "def weird_func(n):\n",
    "    if n > b:\n",
    "        return n - c\n",
    "    else:\n",
    "        return weird_func(a + weird_func(a + weird_func(a + weird_func(a + n))))\n",
    "\n",
    "S = 0\n",
    "for i in range(0, b + 1):    \n",
    "    S = S + weird_func(i)\n",
    "\n",
    "print(S)"
   ]
  },
  {
   "cell_type": "code",
   "execution_count": null,
   "metadata": {},
   "outputs": [],
   "source": [
    "# Reading the inputs\n",
    "n = int(input())\n",
    "k = int(input())\n",
    "\n",
    "# Function\n",
    "def pattern(n, k):\n",
    "    # Write your recursive function here\n",
    "    ret = []\n",
    "    if n <= 0:\n",
    "        ret.append(n)\n",
    "    else:\n",
    "        ret.append(n).extend(pattern(n-k,k)).append(n)\n",
    "    return ret\n",
    "    \n",
    "print(','.join(pattern(n,k)))"
   ]
  }
 ],
 "metadata": {
  "kernelspec": {
   "display_name": "Python 3",
   "language": "python",
   "name": "python3"
  },
  "language_info": {
   "codemirror_mode": {
    "name": "ipython",
    "version": 3
   },
   "file_extension": ".py",
   "mimetype": "text/x-python",
   "name": "python",
   "nbconvert_exporter": "python",
   "pygments_lexer": "ipython3",
   "version": "3.6.4"
  }
 },
 "nbformat": 4,
 "nbformat_minor": 2
}
