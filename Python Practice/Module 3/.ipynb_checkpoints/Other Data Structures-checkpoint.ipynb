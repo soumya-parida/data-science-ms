{
 "cells": [
  {
   "cell_type": "markdown",
   "metadata": {},
   "source": [
    "### Other Data Structures ###"
   ]
  },
  {
   "cell_type": "code",
   "execution_count": 1,
   "metadata": {},
   "outputs": [
    {
     "name": "stdout",
     "output_type": "stream",
     "text": [
      "[1, 2, 3, 2, 5, 1, 2, 4, 6, 2, 7, 8, 6]\n",
      "8\n"
     ]
    }
   ],
   "source": [
    "#input has been taken for you\n",
    "import ast\n",
    "input_list= ast.literal_eval(input())\n",
    "\n",
    "#start writing your code from here\n",
    "d = {}\n",
    "max_distance = 0\n",
    "for i in range(len(input_list)):\n",
    "    element = input_list[i]\n",
    "    if element not in d.keys():\n",
    "        #Start position\n",
    "        d[element] = i\n",
    "    else:\n",
    "        #Distance of matching element\n",
    "        distance = i - d[element]\n",
    "        if max_distance < distance:\n",
    "            max_distance = distance\n",
    "     \n",
    "print(max_distance)"
   ]
  },
  {
   "cell_type": "code",
   "execution_count": 7,
   "metadata": {},
   "outputs": [
    {
     "name": "stdout",
     "output_type": "stream",
     "text": [
      "[\"pasta\",\"pasta\",\"pasta\",\"paratha\",\"paratha\",\"paratha\"]\n",
      "NOTA\n"
     ]
    }
   ],
   "source": [
    "import ast,sys\n",
    "input_str = sys.stdin.read()\n",
    "votes = ast.literal_eval(input_str)\n",
    "\n",
    "d = {}\n",
    "for food in votes:\n",
    "    if food in d:\n",
    "        d[food] = d[food] + 1       \n",
    "    else:\n",
    "        d[food] = 1\n",
    "\n",
    "winning_num = len(votes)//2\n",
    "winner = 'NOTA'\n",
    "for food in d:\n",
    "     if d[food] > (len(votes)//2):\n",
    "            winner = food\n",
    "            break\n",
    "print(winner)"
   ]
  },
  {
   "cell_type": "code",
   "execution_count": 12,
   "metadata": {},
   "outputs": [
    {
     "name": "stdout",
     "output_type": "stream",
     "text": [
      "{'name': 1, 'place': {'city': 2, 'country': 3}, 'animal': 4}\n",
      "['animal', 'name', 'place_city', 'place_country']\n",
      "[1, 2, 3, 4]\n"
     ]
    }
   ],
   "source": [
    "import ast,sys\n",
    "input_str = sys.stdin.read()\n",
    "input_dict = dict(ast.literal_eval(input_str))\n",
    "def flatten_dict(dd, separator='_', prefix=''):\n",
    "    out = {}\n",
    "    #complete this function\n",
    "    for item in dd:\n",
    "        if isinstance(dd[item], dict):\n",
    "            for child_item in dd[item]:\n",
    "                out.update({item + separator + child_item:dd[item][child_item]})\n",
    "        else:\n",
    "            out.update({prefix+item:dd[item]})\n",
    "    return out\n",
    "    \n",
    "out1=list(flatten_dict(input_dict).keys())\n",
    "out2=list(flatten_dict(input_dict).values())\n",
    "out1.sort()\n",
    "out2.sort()\n",
    "print(out1)\n",
    "print(out2)"
   ]
  },
  {
   "cell_type": "code",
   "execution_count": null,
   "metadata": {},
   "outputs": [],
   "source": []
  }
 ],
 "metadata": {
  "kernelspec": {
   "display_name": "Python 3",
   "language": "python",
   "name": "python3"
  },
  "language_info": {
   "codemirror_mode": {
    "name": "ipython",
    "version": 3
   },
   "file_extension": ".py",
   "mimetype": "text/x-python",
   "name": "python",
   "nbconvert_exporter": "python",
   "pygments_lexer": "ipython3",
   "version": "3.6.4"
  }
 },
 "nbformat": 4,
 "nbformat_minor": 2
}
