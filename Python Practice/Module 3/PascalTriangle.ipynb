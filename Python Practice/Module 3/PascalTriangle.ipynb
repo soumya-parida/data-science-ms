{
 "cells": [
  {
   "cell_type": "code",
   "execution_count": 20,
   "metadata": {},
   "outputs": [
    {
     "name": "stdout",
     "output_type": "stream",
     "text": [
      "8\n",
      "[1, 7, 21, 35, 35, 21, 7, 1]\n"
     ]
    }
   ],
   "source": [
    "#input has been taken for you\n",
    "n=int(input())\n",
    "size = 2*n+1\n",
    "next_pascal = [0] * size\n",
    "\n",
    "next_pascal[n] = 1\n",
    "for i in range(2, n+1):\n",
    "    pascal = list(next_pascal)\n",
    "    for j in range(1, size-1):\n",
    "        next_pascal[j] = pascal[j-1] + pascal[j+1]\n",
    "print(next_pascal[1::2])"
   ]
  }
 ],
 "metadata": {
  "kernelspec": {
   "display_name": "Python 3",
   "language": "python",
   "name": "python3"
  },
  "language_info": {
   "codemirror_mode": {
    "name": "ipython",
    "version": 3
   },
   "file_extension": ".py",
   "mimetype": "text/x-python",
   "name": "python",
   "nbconvert_exporter": "python",
   "pygments_lexer": "ipython3",
   "version": "3.6.4"
  }
 },
 "nbformat": 4,
 "nbformat_minor": 2
}
