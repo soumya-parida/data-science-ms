{
 "cells": [
  {
   "cell_type": "markdown",
   "metadata": {},
   "source": [
    "## Maximum Distance ##\n",
    "**Description**<br>\n",
    "You will be given a list of repeated elements. You have to find the maximum distance between two same elements. The answer will be zero if there are no repeated elements.\n",
    "<br>\n",
    "----------------------------------------------------------------------<br>\n",
    "Input:<br>\n",
    "A non-empty list of integers.\n",
    "<br>\n",
    "Output:<br>\n",
    "A single integer denoting the maximum distance between two same integers.<br>\n",
    "<br>\n",
    "----------------------------------------------------------------------<br>\n",
    "Sample input:<br>\n",
    "[1, 2, 3, 2, 5, 1, 2, 4, 6, 2, 7, 8, 6]<br>\n",
    "<br>\n",
    "Sample output:<br>\n",
    "8"
   ]
  },
  {
   "cell_type": "code",
   "execution_count": 8,
   "metadata": {},
   "outputs": [
    {
     "name": "stdout",
     "output_type": "stream",
     "text": [
      "[1, 2, 3, 1]\n",
      "3\n"
     ]
    }
   ],
   "source": [
    "#input has been taken for you\n",
    "import ast\n",
    "input_list= ast.literal_eval(input())\n",
    "\n",
    "#start writing your code from here\n",
    "d = {}\n",
    "max_distance = 0\n",
    "for i in range(len(input_list)):\n",
    "    if input_list[i] in d.keys():\n",
    "        distance = i - d[input_list[i]]\n",
    "        max_distance = max(max_distance, distance)\n",
    "     #   print(distance)\n",
    "    else:\n",
    "        d[input_list[i]] = i\n",
    "    #print(d)   \n",
    "print(max_distance)\n",
    "        "
   ]
  }
 ],
 "metadata": {
  "kernelspec": {
   "display_name": "Python 3",
   "language": "python",
   "name": "python3"
  },
  "language_info": {
   "codemirror_mode": {
    "name": "ipython",
    "version": 3
   },
   "file_extension": ".py",
   "mimetype": "text/x-python",
   "name": "python",
   "nbconvert_exporter": "python",
   "pygments_lexer": "ipython3",
   "version": "3.6.4"
  }
 },
 "nbformat": 4,
 "nbformat_minor": 2
}
