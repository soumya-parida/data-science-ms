{
 "cells": [
  {
   "cell_type": "code",
   "execution_count": 1,
   "metadata": {},
   "outputs": [],
   "source": [
    "### LISTS"
   ]
  },
  {
   "cell_type": "code",
   "execution_count": null,
   "metadata": {},
   "outputs": [],
   "source": [
    "import ast\n",
    "input_str = input()\n",
    "input_list = ast.literal_eval(input_str)\n",
    "source=input_list[0]\n",
    "size=input_list[1]\n",
    "\n",
    "length = len(source)\n",
    "i = 0\n",
    "while size < length:\n",
    "    next_i = i + size\n",
    "    if next_i <= length:\n",
    "        print(lis[i:next_i])\n",
    "    else:\n",
    "        print(lis[i:length])\n",
    "    i = next_i"
   ]
  },
  {
   "cell_type": "code",
   "execution_count": 7,
   "metadata": {},
   "outputs": [
    {
     "name": "stdout",
     "output_type": "stream",
     "text": [
      "[8, 7, 2, 0, 9, -1, -8]\n",
      "8\n"
     ]
    }
   ],
   "source": [
    "# Read the input list\n",
    "import ast\n",
    "input_str = input()\n",
    "input_list = ast.literal_eval(input_str)\n",
    "\n",
    "# Write your code here\n",
    "def second_max(input_list):\n",
    "    sorted_list = sorted(input_list)\n",
    "    maximum = sorted_list[-1]\n",
    "    for i in range(2, len(sorted_list)):\n",
    "        if(sorted_list[0-i] < maximum):\n",
    "            print(sorted_list[0-i])\n",
    "            return\n",
    "        \n",
    "    print('not present')\n",
    "\n",
    "second_max(input_list)"
   ]
  },
  {
   "cell_type": "code",
   "execution_count": null,
   "metadata": {},
   "outputs": [],
   "source": []
  }
 ],
 "metadata": {
  "kernelspec": {
   "display_name": "Python 3",
   "language": "python",
   "name": "python3"
  },
  "language_info": {
   "codemirror_mode": {
    "name": "ipython",
    "version": 3
   },
   "file_extension": ".py",
   "mimetype": "text/x-python",
   "name": "python",
   "nbconvert_exporter": "python",
   "pygments_lexer": "ipython3",
   "version": "3.6.4"
  }
 },
 "nbformat": 4,
 "nbformat_minor": 2
}
