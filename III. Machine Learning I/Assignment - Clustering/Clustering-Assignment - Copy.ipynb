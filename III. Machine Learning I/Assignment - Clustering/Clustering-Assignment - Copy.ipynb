{
 "cells": [
  {
   "cell_type": "markdown",
   "metadata": {},
   "source": [
    "## Clustering Assignment\n",
    "\n",
    "#### Problem Statement\n",
    "HELP International is an international humanitarian NGO that is committed to fighting poverty and providing the people of backward countries with basic amenities and relief during the time of disasters and natural calamities. It runs a lot of operational projects from time to time along with advocacy drives to raise awareness as well as for funding purposes.\n",
    "\n",
    "After the recent funding programmes, they have been able to raise around $ 10 million. Now the CEO of the NGO needs to decide how to use this money strategically and effectively. The significant issues that come while making this decision are mostly related to choosing the countries that are in the direst need of aid. \n",
    "\n",
    "### Objective\n",
    "1. To categorise the countries using some socio-economic and health factors that determine the overall development of the country. \n",
    "2. To suggest the countries which the CEO needs to focus on the most. "
   ]
  },
  {
   "cell_type": "code",
   "execution_count": null,
   "metadata": {},
   "outputs": [],
   "source": [
    "#importing all necessary libraries here.\n",
    "import warnings\n",
    "warnings.filterwarnings('ignore')\n",
    "\n",
    "import numpy as np\n",
    "import pandas as pd\n",
    "import matplotlib.pyplot as plt\n",
    "import seaborn as sns\n",
    "\n",
    "from sklearn.preprocessing import StandardScaler\n",
    "from sklearn.cluster import KMeans\n",
    "from sklearn.cluster import hierarchical\n",
    "\n",
    "from sklearn.metrics import silhouette_score\n",
    "\n",
    "from scipy.cluster.hierarchy import linkage\n",
    "from scipy.cluster.hierarchy import dendrogram\n",
    "from scipy.cluster.hierarchy import cut_tree"
   ]
  },
  {
   "cell_type": "markdown",
   "metadata": {},
   "source": [
    "### EDA Steps\n"
   ]
  },
  {
   "cell_type": "code",
   "execution_count": null,
   "metadata": {},
   "outputs": [],
   "source": [
    "#Load and inspect data\n",
    "country_df = pd.read_csv('Country-data.csv')\n",
    "country_df.info()"
   ]
  },
  {
   "cell_type": "code",
   "execution_count": null,
   "metadata": {},
   "outputs": [],
   "source": [
    "country_df.describe()"
   ]
  },
  {
   "cell_type": "markdown",
   "metadata": {},
   "source": [
    "### Data Conversion\n"
   ]
  },
  {
   "cell_type": "code",
   "execution_count": null,
   "metadata": {},
   "outputs": [],
   "source": [
    "\n",
    "country_df['exports_total'] = country_df['exports'] * country_df['gdpp'] // 100 \n",
    "country_df['health_total'] = country_df['health'] * country_df['gdpp'] // 100\n",
    "country_df['imports_total'] = country_df['imports'] * country_df['gdpp'] // 100\n",
    "# The values are rounded off to integer values, since decimal accuracy are not needed for clustering.\n",
    "country_df.head(10)"
   ]
  },
  {
   "cell_type": "code",
   "execution_count": null,
   "metadata": {},
   "outputs": [],
   "source": [
    "country_df.describe()"
   ]
  },
  {
   "cell_type": "code",
   "execution_count": null,
   "metadata": {},
   "outputs": [],
   "source": [
    "# Let's see the correlation of the columns to see what are some independent variables.\n",
    "features = ['gdpp', 'income', 'exports_total', 'health_total', 'imports_total', 'inflation', 'life_expec', 'total_fer', 'child_mort']\n",
    "corr_mat = country_df[features].corr()\n",
    "plt.figure(figsize = (8,6))\n",
    "sns.heatmap(corr_mat, annot=False)\n",
    "plt.show()"
   ]
  },
  {
   "cell_type": "code",
   "execution_count": null,
   "metadata": {},
   "outputs": [],
   "source": [
    "# We will use Distribution Plots to visualize the data distribution.\n",
    "plt.figure(figsize=(20,12))\n",
    "features = ['gdpp', 'income', 'inflation', 'exports_total', 'health_total', 'imports_total', 'child_mort', 'life_expec', 'total_fer']\n",
    "for i in enumerate(features):    \n",
    "    ax = plt.subplot(3, 3, i[0]+1)\n",
    "    sns.distplot(country_df[i[1]], kde=True)"
   ]
  },
  {
   "cell_type": "markdown",
   "metadata": {},
   "source": [
    "### Outliers"
   ]
  },
  {
   "cell_type": "code",
   "execution_count": null,
   "metadata": {},
   "outputs": [],
   "source": [
    "# We will use Box Plots to visualize data for univariate analysis\n",
    "plt.figure(figsize=(20,12))\n",
    "features = ['gdpp', 'income', 'inflation', 'exports_total', 'health_total', 'imports_total', 'child_mort', 'life_expec', 'total_fer']\n",
    "for i in enumerate(features): \n",
    "    ax = plt.subplot(3, 3, i[0]+1)\n",
    "    sns.boxplot(country_df[i[1]])"
   ]
  },
  {
   "cell_type": "markdown",
   "metadata": {},
   "source": [
    "### Capping\n"
   ]
  },
  {
   "cell_type": "code",
   "execution_count": null,
   "metadata": {},
   "outputs": [],
   "source": [
    "# The absolute values below are picked from the graphs above, and we are trying to pack the points closer.\n",
    "# We are not taking values from IQR intentionally.\n",
    "country_df['gdpp'][country_df['gdpp'] >= 55000] = 55000\n",
    "country_df['income'][country_df['income'] >= 60000] = 60000\n",
    "country_df['exports_total'][country_df['exports_total'] >= 50000] = 50000\n",
    "country_df['health_total'][country_df['health_total'] >= 6000] = 6000\n",
    "country_df['imports_total'][country_df['imports_total'] >= 50000] = 50000\n",
    "country_df['inflation'][country_df['inflation'] >= 20] = 20"
   ]
  },
  {
   "cell_type": "code",
   "execution_count": null,
   "metadata": {},
   "outputs": [],
   "source": [
    "# We will use Box Plots to visualize data for univariate analysis\n",
    "plt.figure(figsize=(20,12))\n",
    "features = ['gdpp', 'income', 'inflation', 'exports_total', 'health_total', 'imports_total', 'child_mort', 'life_expec', 'total_fer']\n",
    "for i in enumerate(features): \n",
    "    ax = plt.subplot(3, 3, i[0]+1)\n",
    "    sns.boxplot(country_df[i[1]])"
   ]
  },
  {
   "cell_type": "markdown",
   "metadata": {},
   "source": [
    "### Hopkins Statistics\n",
    "Let's now determine if the dataset is good enough for clustering, by using Hopkin's measure."
   ]
  },
  {
   "cell_type": "code",
   "execution_count": null,
   "metadata": {},
   "outputs": [],
   "source": [
    "#Calculating the Hopkins statistic\n",
    "from sklearn.neighbors import NearestNeighbors\n",
    "from random import sample\n",
    "from numpy.random import uniform\n",
    "import numpy as np\n",
    "from math import isnan\n",
    " \n",
    "def hopkins(X):\n",
    "    d = X.shape[1]\n",
    "    #d = len(vars) # columns\n",
    "    n = len(X) # rows\n",
    "    m = int(0.1 * n) \n",
    "    nbrs = NearestNeighbors(n_neighbors=1).fit(X.values)\n",
    " \n",
    "    rand_X = sample(range(0, n, 1), m)\n",
    " \n",
    "    ujd = []\n",
    "    wjd = []\n",
    "    for j in range(0, m):\n",
    "        u_dist, _ = nbrs.kneighbors(uniform(np.amin(X,axis=0),np.amax(X,axis=0),d).reshape(1, -1), 2, return_distance=True)\n",
    "        ujd.append(u_dist[0][1])\n",
    "        w_dist, _ = nbrs.kneighbors(X.iloc[rand_X[j]].values.reshape(1, -1), 2, return_distance=True)\n",
    "        wjd.append(w_dist[0][1])\n",
    " \n",
    "    H = sum(ujd) / (sum(ujd) + sum(wjd))\n",
    "    if isnan(H):\n",
    "        print(ujd, wjd)\n",
    "        H = 0\n",
    " \n",
    "    return H"
   ]
  },
  {
   "cell_type": "code",
   "execution_count": null,
   "metadata": {},
   "outputs": [],
   "source": [
    "# Hopkins Statistic Value\n",
    "# Note: The country or index column is dropped, and the other columns are not used, instead the correspinding total columns are used.\n",
    "# We are calculating the hopkins measure with only the columns that could be used for clustering.\n",
    "hopkins(country_df.drop(['country', 'exports', 'imports', 'health'], axis=1))"
   ]
  },
  {
   "cell_type": "markdown",
   "metadata": {},
   "source": [
    "Based on the hopkins measure above, the data deems fit for Clustering. We will proceed with K-Means clustering next."
   ]
  },
  {
   "cell_type": "markdown",
   "metadata": {},
   "source": [
    "### K-Means Clustering"
   ]
  },
  {
   "cell_type": "markdown",
   "metadata": {},
   "source": [
    "#### Prepare & Scale"
   ]
  },
  {
   "cell_type": "code",
   "execution_count": null,
   "metadata": {},
   "outputs": [],
   "source": [
    "scaler = StandardScaler()\n",
    "# We will drop the unused columns again during scaling.\n",
    "# Note: The country or index column is dropped, and the columns exports/imports/health are not used, instead the correspinding '_total' columns are used.\n",
    "scaled_country_df = scaler.fit_transform(country_df.drop(['country', 'exports', 'imports', 'health'], axis=1)) "
   ]
  },
  {
   "cell_type": "markdown",
   "metadata": {},
   "source": [
    "#### Silhouette Score"
   ]
  },
  {
   "cell_type": "code",
   "execution_count": null,
   "metadata": {},
   "outputs": [],
   "source": [
    "ss = []\n",
    "for k in range(2,10):\n",
    "    kmeans = KMeans(n_clusters = k, random_state=20).fit(scaled_country_df)\n",
    "    ss.append([k, silhouette_score(scaled_country_df, kmeans.labels_)])\n",
    "    \n",
    "plt.plot(pd.DataFrame(ss)[0], pd.DataFrame(ss)[1]);"
   ]
  },
  {
   "cell_type": "markdown",
   "metadata": {},
   "source": [
    "#### Elbow Method to choose K"
   ]
  },
  {
   "cell_type": "code",
   "execution_count": null,
   "metadata": {},
   "outputs": [],
   "source": [
    "ssd = []\n",
    "for k in list(range(1,10)):\n",
    "    model = KMeans(n_clusters = k, max_iter = 50).fit(scaled_country_df)\n",
    "    ssd.append([k, model.inertia_])\n",
    "    \n",
    "plt.plot(pd.DataFrame(ssd)[0], pd.DataFrame(ssd)[1]);"
   ]
  },
  {
   "cell_type": "markdown",
   "metadata": {},
   "source": [
    "Based on both the elbox curve and silhouette score analysis, k = 3, seems to be the optimum choice of clusters for k-means.\n",
    "It should also be noted that, using Silhouette score, even k = 2, option looks viable too.\n",
    "\n",
    "#### Run k-means clustering \\[K = 3\\]"
   ]
  },
  {
   "cell_type": "code",
   "execution_count": null,
   "metadata": {},
   "outputs": [],
   "source": [
    "kmean = KMeans(n_clusters = 3, max_iter = 50, random_state = 20)\n",
    "kmean.fit(scaled_country_df)"
   ]
  },
  {
   "cell_type": "code",
   "execution_count": null,
   "metadata": {},
   "outputs": [],
   "source": [
    "#Adding the cluster IDs to the original dataframe.\n",
    "country_df = pd.concat([country_df, pd.Series(data=kmean.labels_, name='kmeans_clusterid')], axis = 1)\n",
    "country_df.head()"
   ]
  },
  {
   "cell_type": "code",
   "execution_count": null,
   "metadata": {},
   "outputs": [],
   "source": [
    "country_df['kmeans_clusterid'].value_counts()"
   ]
  },
  {
   "cell_type": "code",
   "execution_count": null,
   "metadata": {},
   "outputs": [],
   "source": [
    "# Plotting the clusters with features gdpp, income, child_mort\n",
    "plt.figure(figsize=(21, 7))\n",
    "plt.subplot(131)\n",
    "sns.scatterplot(data = country_df, x = 'gdpp', y = 'income', hue ='kmeans_clusterid', legend = 'full')\n",
    "plt.subplot(132)\n",
    "sns.scatterplot(data = country_df, x = 'gdpp', y = 'child_mort', hue ='kmeans_clusterid', legend = 'full')\n",
    "plt.subplot(133)\n",
    "sns.scatterplot(data = country_df, x = 'child_mort', y = 'income', hue ='kmeans_clusterid', legend = 'full')\n",
    "\n",
    "plt.show()"
   ]
  },
  {
   "cell_type": "markdown",
   "metadata": {},
   "source": [
    "#### Profiling Clusters"
   ]
  },
  {
   "cell_type": "code",
   "execution_count": null,
   "metadata": {},
   "outputs": [],
   "source": [
    "country_df[['kmeans_clusterid', 'gdpp', 'income']].groupby('kmeans_clusterid').mean().plot(kind = 'bar')"
   ]
  },
  {
   "cell_type": "code",
   "execution_count": null,
   "metadata": {},
   "outputs": [],
   "source": [
    "country_df[['kmeans_clusterid', 'child_mort']].groupby('kmeans_clusterid').mean().plot(kind = 'bar')"
   ]
  },
  {
   "cell_type": "code",
   "execution_count": null,
   "metadata": {},
   "outputs": [],
   "source": [
    "plt.figure(figsize=(21,7))\n",
    "plt.subplot(131)\n",
    "sns.boxplot(x='kmeans_clusterid', y='gdpp', data=country_df[['kmeans_clusterid', 'gdpp']])\n",
    "plt.subplot(132)\n",
    "sns.boxplot(x='kmeans_clusterid', y='income', data=country_df[['kmeans_clusterid', 'income']])\n",
    "plt.subplot(133)\n",
    "sns.boxplot(x='kmeans_clusterid', y='child_mort', data=country_df[['kmeans_clusterid', 'child_mort']])\n",
    "plt.show()"
   ]
  },
  {
   "cell_type": "code",
   "execution_count": null,
   "metadata": {},
   "outputs": [],
   "source": [
    "# The top 5 countries (for aid) from this clustering method can be obtained by sorting cluster 2 with decreasing child mortality rate and increasing gdpp\n",
    "country_df[country_df['kmeans_clusterid']==2].sort_values(by=[\"child_mort\", 'gdpp'], ascending=[False, True])[['country', 'child_mort', 'gdpp', 'income']].head(5)"
   ]
  },
  {
   "cell_type": "markdown",
   "metadata": {},
   "source": [
    "### Hierarchical Clustering"
   ]
  },
  {
   "cell_type": "code",
   "execution_count": null,
   "metadata": {},
   "outputs": [],
   "source": [
    "#Hierarchical clustering with single linkage.\n",
    "plt.figure(figsize=(30, 10))\n",
    "linkages = linkage(scaled_country_df, method=\"single\", metric='euclidean')\n",
    "dendrogram(linkages)\n",
    "plt.show()"
   ]
  },
  {
   "cell_type": "code",
   "execution_count": null,
   "metadata": {},
   "outputs": [],
   "source": [
    "#Hierarchical clustering with single linkage.\n",
    "plt.figure(figsize=(30, 10))\n",
    "linkages = linkage(scaled_country_df, method=\"complete\", metric='euclidean')\n",
    "dendrogram(linkages)\n",
    "plt.show()"
   ]
  },
  {
   "cell_type": "markdown",
   "metadata": {},
   "source": [
    "\n",
    "We will use cut_tree to get our list of features and k=3."
   ]
  },
  {
   "cell_type": "markdown",
   "metadata": {},
   "source": [
    "#### Run Hierarchical clustering \\[K = 3\\]"
   ]
  },
  {
   "cell_type": "code",
   "execution_count": null,
   "metadata": {},
   "outputs": [],
   "source": [
    "cluster_labels = cut_tree(linkages, n_clusters=3).reshape(-1,)\n",
    "country_df['hierarchical_clusterid'] = cluster_labels\n",
    "country_df.head()"
   ]
  },
  {
   "cell_type": "code",
   "execution_count": null,
   "metadata": {},
   "outputs": [],
   "source": [
    "country_df['hierarchical_clusterid'].value_counts()"
   ]
  },
  {
   "cell_type": "code",
   "execution_count": null,
   "metadata": {},
   "outputs": [],
   "source": [
    "# Plotting the clusters with features gdpp, income, child_mort\n",
    "plt.figure(figsize=(21, 7))\n",
    "plt.subplot(131)\n",
    "sns.scatterplot(data = country_df, x = 'gdpp', y = 'income', hue ='hierarchical_clusterid', legend = 'full')\n",
    "plt.subplot(132)\n",
    "sns.scatterplot(data = country_df, x = 'gdpp', y = 'child_mort', hue ='hierarchical_clusterid', legend = 'full')\n",
    "plt.subplot(133)\n",
    "sns.scatterplot(data = country_df, x = 'child_mort', y = 'income', hue ='hierarchical_clusterid', legend = 'full')\n",
    "\n",
    "plt.show()"
   ]
  },
  {
   "cell_type": "markdown",
   "metadata": {},
   "source": [
    "#### Profiling Hierarchical Clusters"
   ]
  },
  {
   "cell_type": "code",
   "execution_count": null,
   "metadata": {},
   "outputs": [],
   "source": [
    "country_df[['hierarchical_clusterid', 'gdpp', 'income']].groupby('hierarchical_clusterid').mean().plot(kind = 'bar')"
   ]
  },
  {
   "cell_type": "code",
   "execution_count": null,
   "metadata": {},
   "outputs": [],
   "source": [
    "country_df[['hierarchical_clusterid', 'child_mort']].groupby('hierarchical_clusterid').mean().plot(kind = 'bar')"
   ]
  },
  {
   "cell_type": "code",
   "execution_count": null,
   "metadata": {},
   "outputs": [],
   "source": [
    "plt.figure(figsize=(21,7))\n",
    "plt.subplot(131)\n",
    "sns.boxplot(x='hierarchical_clusterid', y='gdpp', data=country_df[['hierarchical_clusterid', 'gdpp']])\n",
    "plt.subplot(132)\n",
    "sns.boxplot(x='hierarchical_clusterid', y='income', data=country_df[['hierarchical_clusterid', 'income']])\n",
    "plt.subplot(133)\n",
    "sns.boxplot(x='hierarchical_clusterid', y='child_mort', data=country_df[['hierarchical_clusterid', 'child_mort']])\n",
    "plt.show()"
   ]
  },
  {
   "cell_type": "code",
   "execution_count": null,
   "metadata": {},
   "outputs": [],
   "source": [
    "# The top 5 countries from this clustering method can be obtained by sorting cluster 2 with decreasing child mortality rate and increasing gdpp\n",
    "# We will also prefilter the countries within this cluster with child mortality higher than 100, gdpp less than 1000 and income less than 2000. \n",
    "country_df[(country_df['hierarchical_clusterid']==0) & (country_df['child_mort'] >= 100) & (country_df['gdpp'] <= 1000) & (country_df['income'] <= 1500)].sort_values(by=[\"child_mort\", 'gdpp'], ascending=[False, True])[['country', 'child_mort', 'gdpp', 'income']].head(5)"
   ]
  },
  {
   "cell_type": "markdown",
   "metadata": {},
   "source": [
    "### Final Analysis\n",
    "1. Publish the classifications obtained for the countries.\n",
    "2. Choose a cluster/clusters that should be preferred for aid, based on the socio-economic/health factors."
   ]
  },
  {
   "cell_type": "markdown",
   "metadata": {},
   "source": [
    "\n",
    "Further we took the countries with highest mortality rates with low GDPP to determine the best 5 candidate countries to receive the aid. The country list is given below from the hierarchical clusering output."
   ]
  },
  {
   "cell_type": "code",
   "execution_count": null,
   "metadata": {},
   "outputs": [],
   "source": [
    "# The top 5 countries from this clustering method can be obtained by sorting cluster 2 with decreasing child mortality rate and increasing gdpp\n",
    "country_df[(country_df['hierarchical_clusterid']==0)].sort_values(by=[\"child_mort\", 'gdpp'], ascending=[False, True])[['country']].head(5)"
   ]
  }
 ],
 "metadata": {
  "kernelspec": {
   "display_name": "Python 3",
   "language": "python",
   "name": "python3"
  },
  "language_info": {
   "codemirror_mode": {
    "name": "ipython",
    "version": 3
   },
   "file_extension": ".py",
   "mimetype": "text/x-python",
   "name": "python",
   "nbconvert_exporter": "python",
   "pygments_lexer": "ipython3",
   "version": "3.7.6-final"
  }
 },
 "nbformat": 4,
 "nbformat_minor": 2
}