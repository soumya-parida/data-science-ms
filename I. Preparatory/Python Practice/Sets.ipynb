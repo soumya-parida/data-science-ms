{
 "cells": [
  {
   "cell_type": "code",
   "execution_count": 1,
   "metadata": {},
   "outputs": [],
   "source": [
    "students_list = ['A','A','B','C','C','E','N']\n"
   ]
  },
  {
   "cell_type": "code",
   "execution_count": 6,
   "metadata": {},
   "outputs": [
    {
     "name": "stdout",
     "output_type": "stream",
     "text": [
      "{'C', 'A', 'N', 'E', 'B'}\n"
     ]
    }
   ],
   "source": [
    "students_list = sorted(students_list)\n",
    "students_set = set(students_list)\n",
    "student_set = sorted(students_set)\n",
    "print(students_set)\n"
   ]
  },
  {
   "cell_type": "code",
   "execution_count": 7,
   "metadata": {},
   "outputs": [
    {
     "name": "stdout",
     "output_type": "stream",
     "text": [
      "<class 'set'>\n"
     ]
    }
   ],
   "source": [
    "print(type(students_set))\n"
   ]
  },
  {
   "cell_type": "code",
   "execution_count": 8,
   "metadata": {},
   "outputs": [],
   "source": [
    "students_list_2 = ['A','N','F','N','G','A']\n"
   ]
  },
  {
   "cell_type": "code",
   "execution_count": 36,
   "metadata": {},
   "outputs": [
    {
     "name": "stdout",
     "output_type": "stream",
     "text": [
      "{'G', 'A', 'F', 'N'}\n"
     ]
    }
   ],
   "source": [
    "students_set_2 = set(students_list_2)\n",
    "print(students_set_2)"
   ]
  },
  {
   "cell_type": "code",
   "execution_count": 24,
   "metadata": {},
   "outputs": [
    {
     "name": "stdout",
     "output_type": "stream",
     "text": [
      "{'A', 'N'}\n",
      "{'C', 'A', 'N', 'E', 'B'}\n"
     ]
    }
   ],
   "source": [
    "print(students_set.intersection(students_set_2))\n",
    "print(students_set or students_set_2)"
   ]
  },
  {
   "cell_type": "code",
   "execution_count": 48,
   "metadata": {},
   "outputs": [
    {
     "name": "stdout",
     "output_type": "stream",
     "text": [
      "{'C', 'A', 'F', 'N', 'E', 'B', 'G'}\n",
      "{'A', 'F', 'G', 'X', 'N'}\n",
      "{'G', 'A', 'F', 'N'}\n",
      "{'X'}\n",
      "{'X'}\n"
     ]
    }
   ],
   "source": [
    "print(students_set.union(students_set_2))\n",
    "another_set = set(['G', 'N','F','N','A','G','A','A', 'X'])\n",
    "print(another_set)\n",
    "print(students_set_2)\n",
    "print((another_set - students_set_2))\n",
    "print((another_set ^ students_set_2))"
   ]
  },
  {
   "cell_type": "code",
   "execution_count": 13,
   "metadata": {},
   "outputs": [
    {
     "name": "stdout",
     "output_type": "stream",
     "text": [
      "{'E', 'C', 'B'}\n"
     ]
    }
   ],
   "source": [
    "print(students_set.difference(students_set_2))"
   ]
  }
 ],
 "metadata": {
  "anaconda-cloud": {},
  "kernelspec": {
   "display_name": "Python 3",
   "language": "python",
   "name": "python3"
  },
  "language_info": {
   "codemirror_mode": {
    "name": "ipython",
    "version": 3
   },
   "file_extension": ".py",
   "mimetype": "text/x-python",
   "name": "python",
   "nbconvert_exporter": "python",
   "pygments_lexer": "ipython3",
   "version": "3.6.4"
  }
 },
 "nbformat": 4,
 "nbformat_minor": 1
}
