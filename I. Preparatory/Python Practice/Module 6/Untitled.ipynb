{
 "cells": [
  {
   "cell_type": "markdown",
   "metadata": {},
   "source": [
    "### Swap two rows ###\n",
    "**Description**<br>\n",
    "Given m and n, swap the mth and nth rows of the 2-D NumPy array given below.\n",
    "<br>\n",
    "`\n",
    "a = [[4 3 1]\n",
    "     [5 7 0]\n",
    "     [9 9 3]\n",
    "     [8 2 4]]\n",
    "`<br>\n",
    "Example:<br>\n",
    "Input 1:<br>\n",
    "`0\n",
    "2`<br>\n",
    "Output 1:<br>\n",
    "`\n",
    "[[9 9 3] \n",
    " [5 7 0] \n",
    " [4 3 1] \n",
    " [8 2 4]] \n",
    " `"
   ]
  },
  {
   "cell_type": "code",
   "execution_count": 7,
   "metadata": {},
   "outputs": [
    {
     "name": "stdout",
     "output_type": "stream",
     "text": [
      "0\n",
      "0\n",
      "[[4 3 1]\n",
      " [5 7 0]\n",
      " [9 9 3]\n",
      " [8 2 4]]\n"
     ]
    }
   ],
   "source": [
    "import numpy as np \n",
    "\n",
    "# Given array\n",
    "a = np.array([[4, 3, 1], [5, 7, 0], [9, 9, 3], [8, 2, 4]])\n",
    "\n",
    "# Read the values of m and n\n",
    "import sys\n",
    "lines = sys.stdin.readlines()\n",
    "m = int(input()) #int(lines[0])\n",
    "n = int(input()) #int(lines[1])\n",
    "\n",
    "# Write your code for swapping here\n",
    "a[m], a[n] = a[n], a[m]\n",
    "# Print the array after swapping\n",
    "print(a)\n"
   ]
  },
  {
   "cell_type": "markdown",
   "metadata": {},
   "source": [
    "### Create border array ###<br>\n",
    "**Description**<br>\n",
    "Given a single integer n, create an (n x n) 2D array with 1 on the border and 0 on the inside.<br>\n",
    "<br>\n",
    "Note: Make sure the array is of type int.<br>\n",
    "<br>\n",
    "Example:<br>\n",
    "Input 1:<br>\n",
    "4<br>\n",
    "Output 1:<br>\n",
    "`\n",
    "[[1 1 1 1]\n",
    "[1 0 0 1]\n",
    "[1 0 0 1]\n",
    "[1 1 1 1]]\n",
    "`<br>\n",
    "Input 2:<br>\n",
    "2<br>\n",
    "Output 2:<br>\n",
    "`\n",
    "[[1 1] \n",
    " [1 1]] \n",
    "`\n",
    "<br>\n",
    "Execution Time Limit<br>\n",
    "5 seconds<br>"
   ]
  },
  {
   "cell_type": "code",
   "execution_count": 40,
   "metadata": {},
   "outputs": [
    {
     "name": "stdout",
     "output_type": "stream",
     "text": [
      "10\n",
      "[[1 1 1 1 1 1 1 1 1 1]\n",
      " [1 0 0 0 0 0 0 0 0 1]\n",
      " [1 0 0 0 0 0 0 0 0 1]\n",
      " [1 0 0 0 0 0 0 0 0 1]\n",
      " [1 0 0 0 0 0 0 0 0 1]\n",
      " [1 0 0 0 0 0 0 0 0 1]\n",
      " [1 0 0 0 0 0 0 0 0 1]\n",
      " [1 0 0 0 0 0 0 0 0 1]\n",
      " [1 0 0 0 0 0 0 0 0 1]\n",
      " [1 1 1 1 1 1 1 1 1 1]]\n"
     ]
    }
   ],
   "source": [
    "# Read the variable from STDIN\n",
    "n = int(input())\n",
    "\n",
    "import numpy as np\n",
    "if n < 1:\n",
    "    print()\n",
    "elif n== 1:\n",
    "    print([[1]])\n",
    "if n > 1:\n",
    "    a = np.zeros((n-2, n-2), dtype=np.int)\n",
    "    c = np.ones((n-2, 1), dtype=np.int)\n",
    "    r = np.ones((1,n), dtype=np.int)\n",
    "    a = np.hstack((c, a, c))\n",
    "    a = np.vstack((r, a, r))\n",
    "    print(a)"
   ]
  },
  {
   "cell_type": "code",
   "execution_count": null,
   "metadata": {},
   "outputs": [],
   "source": []
  }
 ],
 "metadata": {
  "kernelspec": {
   "display_name": "Python 3",
   "language": "python",
   "name": "python3"
  },
  "language_info": {
   "codemirror_mode": {
    "name": "ipython",
    "version": 3
   },
   "file_extension": ".py",
   "mimetype": "text/x-python",
   "name": "python",
   "nbconvert_exporter": "python",
   "pygments_lexer": "ipython3",
   "version": "3.6.4"
  }
 },
 "nbformat": 4,
 "nbformat_minor": 2
}
