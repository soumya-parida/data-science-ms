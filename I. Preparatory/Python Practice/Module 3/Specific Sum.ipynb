{
 "cells": [
  {
   "cell_type": "markdown",
   "metadata": {},
   "source": [
    "### Specific Sum ###"
   ]
  },
  {
   "cell_type": "code",
   "execution_count": 2,
   "metadata": {},
   "outputs": [
    {
     "name": "stdout",
     "output_type": "stream",
     "text": [
      "[2, 6, 7, 10, 16, 17, 19]\n",
      "24\n",
      "7 17\n"
     ]
    }
   ],
   "source": [
    "#take input on your own\n",
    "import ast\n",
    "input_list = ast.literal_eval(input())\n",
    "sp_sum = int(input())\n",
    "\n",
    "#write your code here\n",
    "i = 0\n",
    "j = len(input_list) - 1\n",
    "\n",
    "while i < j:\n",
    "    ch_sum = input_list[i] + input_list[j]\n",
    "    if ch_sum  == sp_sum:\n",
    "        print(input_list[i], input_list[j])\n",
    "        break\n",
    "    elif ch_sum < sp_sum:\n",
    "        i += 1\n",
    "    else:\n",
    "        j -= 1"
   ]
  },
  {
   "cell_type": "code",
   "execution_count": 5,
   "metadata": {},
   "outputs": [
    {
     "name": "stdout",
     "output_type": "stream",
     "text": [
      "[0, 0, 1, 1, 1, 1, 0, 1, 0, 0, 0, 1, 1, 0]\n",
      "[0, 0, 1, 1, 1, 1, 0, 1, 0, 0, 0, 1, 1, 0]\n",
      "[0, 0, 1, 1, 1, 1, 0, 1, 0, 0, 0, 1, 1, 0]\n",
      "[0, 0, 1, 1, 1, 1, 0, 1, 0, 0, 0, 1, 1, 0]\n",
      "[0, 0, 1, 1, 1, 1, 0, 1, 0, 0, 0, 1, 1, 0]\n",
      "[0, 0, 1, 1, 1, 1, 0, 1, 0, 0, 0, 1, 1, 0]\n",
      "[0, 0, 0, 1, 1, 1, 1, 1, 0, 0, 0, 1, 1, 0]\n",
      "[0, 0, 0, 1, 1, 1, 1, 1, 0, 0, 0, 1, 1, 0]\n",
      "[0, 0, 0, 0, 1, 1, 1, 1, 1, 0, 0, 1, 1, 0]\n",
      "[0, 0, 0, 0, 0, 1, 1, 1, 1, 1, 0, 1, 1, 0]\n",
      "[0, 0, 0, 0, 0, 0, 1, 1, 1, 1, 1, 1, 1, 0]\n",
      "[0, 0, 0, 0, 0, 0, 1, 1, 1, 1, 1, 1, 1, 0]\n",
      "[0, 0, 0, 0, 0, 0, 1, 1, 1, 1, 1, 1, 1, 0]\n",
      "[0, 0, 0, 0, 0, 0, 0, 1, 1, 1, 1, 1, 1, 1]\n",
      "[0, 0, 0, 0, 0, 0, 0, 1, 1, 1, 1, 1, 1, 1]\n"
     ]
    }
   ],
   "source": [
    "# Program to sort a list of 0s and 1s in one traversal of the list\n",
    "\n",
    "# Given list of 0s and 1s\n",
    "v = [0, 0, 1, 1, 1, 1, 0, 1, 0, 0, 0, 1, 1, 0]\n",
    "n = len(v)\n",
    "# Initialise two variables 'i' and 'j' to 1, indicating that they are currently pointing at the \n",
    "# first element in the list.\n",
    "i = 0\n",
    "j = 0\n",
    "\n",
    "# Run a loop from 1 to the length of the list, with the variable 'i'\n",
    "for i in range(n):\n",
    "  \n",
    "# If you encounter a zero, swap the values between v[i] & v[j] and increment 'j' as well. 'i'\n",
    "# anyway gets incremented with every iteration of the loop. Think about it. This way, 'j' will\n",
    "# always point at the first '1' that hasn't been sorted. Swapping the value of v[i]\n",
    "# and v[j] will help replace the 1s with 0s that come after it. If v[j] is pointing at zero,\n",
    "# swapping won't matter anyway.\n",
    "    if(v[i] == 0):\n",
    "        temp = v[j]\n",
    "        v[j] = v[i]\n",
    "        v[i] = temp\n",
    "        j = j + 1\n",
    "    print(v)\n",
    "# Print the sorted list\n",
    "print(v)"
   ]
  },
  {
   "cell_type": "code",
   "execution_count": 23,
   "metadata": {},
   "outputs": [
    {
     "name": "stdout",
     "output_type": "stream",
     "text": [
      "[0, 0, 1, 1, 1, 1, 0, 1, 0, 0, 0, 1, 1, 0]\n",
      "[0, 0, 0, 0, 0, 0, 0, 1, 1, 1, 1, 1, 1, 1]\n"
     ]
    }
   ],
   "source": [
    "# Read the input\n",
    "import ast,sys\n",
    "#input_str = ast.literal_eval(input()) #sys.stdin.read()\n",
    "input_list = ast.literal_eval(input())\n",
    "\n",
    "# Write your code here\n",
    "\n",
    "i = 0\n",
    "j = 0\n",
    "k = len(input_list) - 1\n",
    "while i <= k:\n",
    "    if input_list[i] == 2:\n",
    "        input_list[i], input_list[k] = input_list[k], input_list[i]\n",
    "        k -= 1\n",
    "    elif input_list[i] == 0 :\n",
    "        input_list[i], input_list[j] = input_list[j], input_list[i]\n",
    "        j += 1\n",
    "        i += 1\n",
    "    else:\n",
    "        i += 1\n",
    "    \n",
    "print(input_list)        "
   ]
  },
  {
   "cell_type": "code",
   "execution_count": 34,
   "metadata": {},
   "outputs": [
    {
     "name": "stdout",
     "output_type": "stream",
     "text": [
      "1\n",
      "1\n"
     ]
    },
    {
     "ename": "TypeError",
     "evalue": "object of type 'int' has no len()",
     "output_type": "error",
     "traceback": [
      "\u001b[1;31m---------------------------------------------------------------------------\u001b[0m",
      "\u001b[1;31mTypeError\u001b[0m                                 Traceback (most recent call last)",
      "\u001b[1;32m<ipython-input-34-d2136fe87e09>\u001b[0m in \u001b[0;36m<module>\u001b[1;34m()\u001b[0m\n\u001b[0;32m      9\u001b[0m \u001b[0mj\u001b[0m \u001b[1;33m=\u001b[0m \u001b[1;36m1\u001b[0m\u001b[1;33m\u001b[0m\u001b[0m\n\u001b[0;32m     10\u001b[0m \u001b[0mthere\u001b[0m \u001b[1;33m=\u001b[0m \u001b[1;32mFalse\u001b[0m\u001b[1;33m\u001b[0m\u001b[0m\n\u001b[1;32m---> 11\u001b[1;33m \u001b[1;32mwhile\u001b[0m \u001b[0mi\u001b[0m \u001b[1;33m<\u001b[0m \u001b[0mlen\u001b[0m\u001b[1;33m(\u001b[0m\u001b[0mL\u001b[0m\u001b[1;33m)\u001b[0m \u001b[1;32mand\u001b[0m \u001b[0mj\u001b[0m \u001b[1;33m<\u001b[0m \u001b[0mlen\u001b[0m\u001b[1;33m(\u001b[0m\u001b[0mL\u001b[0m\u001b[1;33m)\u001b[0m\u001b[1;33m:\u001b[0m\u001b[1;33m\u001b[0m\u001b[0m\n\u001b[0m\u001b[0;32m     12\u001b[0m     \u001b[0mprint\u001b[0m\u001b[1;33m(\u001b[0m\u001b[0mL\u001b[0m\u001b[1;33m[\u001b[0m\u001b[0mj\u001b[0m\u001b[1;33m]\u001b[0m\u001b[1;33m,\u001b[0m \u001b[0mL\u001b[0m\u001b[1;33m[\u001b[0m\u001b[0mi\u001b[0m\u001b[1;33m]\u001b[0m\u001b[1;33m)\u001b[0m\u001b[1;33m\u001b[0m\u001b[0m\n\u001b[0;32m     13\u001b[0m     \u001b[0mch_diff\u001b[0m \u001b[1;33m=\u001b[0m \u001b[0mL\u001b[0m\u001b[1;33m[\u001b[0m\u001b[0mj\u001b[0m\u001b[1;33m]\u001b[0m \u001b[1;33m-\u001b[0m \u001b[0mL\u001b[0m\u001b[1;33m[\u001b[0m\u001b[0mi\u001b[0m\u001b[1;33m]\u001b[0m\u001b[1;33m\u001b[0m\u001b[0m\n",
      "\u001b[1;31mTypeError\u001b[0m: object of type 'int' has no len()"
     ]
    }
   ],
   "source": [
    "# Reading the input\n",
    "import ast \n",
    "L = ast.literal_eval(input())\n",
    "k = int(input())\n",
    "\n",
    "# Write your code here\n",
    "\n",
    "i = 0\n",
    "j = 1\n",
    "there = False\n",
    "while i < len(L) and j < len(L):\n",
    "    print(L[j], L[i])\n",
    "    ch_diff = L[j] - L[i]\n",
    "    if ch_diff  == k:\n",
    "        there = True\n",
    "        break\n",
    "    elif ch_diff < k or j == i + 1:\n",
    "        j += 1\n",
    "    else: \n",
    "        i += 1\n",
    "if there:\n",
    "    print('Yes')\n",
    "else:\n",
    "    print('No')"
   ]
  },
  {
   "cell_type": "code",
   "execution_count": 40,
   "metadata": {},
   "outputs": [
    {
     "name": "stdout",
     "output_type": "stream",
     "text": [
      "[1, 1, 2, 4, 8, 8, 8, 9, 16], [1, 2, 6, 7, 8, 8, 8, 10,16]\n",
      "[1, 2, 8, 8, 8, 16]\n"
     ]
    }
   ],
   "source": [
    "# Reading the input\n",
    "import ast \n",
    "input_lists = ast.literal_eval(input())\n",
    "L1 = input_lists[0]\n",
    "L2 = input_lists[1]\n",
    "\n",
    "# Write your code here\n",
    "i = 0\n",
    "j = 0\n",
    "out = []\n",
    "while i < len(L1) and j < len(L2):\n",
    "    if L1[i] == L2[j]:\n",
    "        out.append(L1[i])\n",
    "        i += 1\n",
    "        j += 1\n",
    "    elif L1[i] < L2[j]:\n",
    "        i += 1\n",
    "    else:\n",
    "        j += 1\n",
    "\n",
    "print(out)"
   ]
  }
 ],
 "metadata": {
  "kernelspec": {
   "display_name": "Python 3",
   "language": "python",
   "name": "python3"
  }
 },
 "nbformat": 4,
 "nbformat_minor": 2
}
