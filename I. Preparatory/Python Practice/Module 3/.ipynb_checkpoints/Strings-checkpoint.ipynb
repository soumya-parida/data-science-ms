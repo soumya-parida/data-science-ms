{
 "cells": [
  {
   "cell_type": "markdown",
   "metadata": {},
   "source": [
    "### Strings ###"
   ]
  },
  {
   "cell_type": "code",
   "execution_count": 1,
   "metadata": {},
   "outputs": [
    {
     "name": "stdout",
     "output_type": "stream",
     "text": [
      "      4,68,72,352   \n",
      "46872352\n"
     ]
    }
   ],
   "source": [
    "#input has been take  for you\n",
    "value=input()\n",
    "\n",
    "#start writing your code from here\n",
    "value = value.strip(' ')\n",
    "value = value.replace(',', '')\n",
    "print(value)"
   ]
  },
  {
   "cell_type": "code",
   "execution_count": 6,
   "metadata": {},
   "outputs": [
    {
     "name": "stdout",
     "output_type": "stream",
     "text": [
      "['vhadbsbchjasb', 0]\n",
      "vhadbsbchjasb\n"
     ]
    }
   ],
   "source": [
    "#take input on your own\n",
    "import ast, sys\n",
    "inp = input()\n",
    "input_list = ast.literal_eval(inp)\n",
    "\n",
    "secret = input_list[0]\n",
    "step = int(input_list[1])\n",
    "\n",
    "#start writing your code from here\n",
    "upper_letters = 'ABCDEFGHIJKLMNOPQRSTUVWXYZ'\n",
    "lower_letters = 'abcdefghijklmnopqrstuvwxyz'\n",
    "\n",
    "password = ''\n",
    "if step > 26:\n",
    "    step = step % 26\n",
    "for letter in secret:\n",
    "    if letter in lower_letters:\n",
    "        password = password + lower_letters[lower_letters.index(letter) - step]\n",
    "    elif letter in upper_letters:\n",
    "        password = password + upper_letters[upper_letters.index(letter) - step]\n",
    "print(password)\n"
   ]
  },
  {
   "cell_type": "code",
   "execution_count": 10,
   "metadata": {},
   "outputs": [
    {
     "name": "stdout",
     "output_type": "stream",
     "text": [
      "9\n",
      "1111111101\n"
     ]
    }
   ],
   "source": [
    "n=input()\n",
    "\n",
    "#start writing your code here\n",
    "nval = int(n)\n",
    "total = 0\n",
    "for i in range(1, nval + 1):\n",
    "    num = int(n * i)\n",
    "    total = total + num\n",
    "\n",
    "print(total)"
   ]
  }
 ],
 "metadata": {
  "kernelspec": {
   "display_name": "Python 3",
   "language": "python",
   "name": "python3"
  },
  "language_info": {
   "codemirror_mode": {
    "name": "ipython",
    "version": 3
   },
   "file_extension": ".py",
   "mimetype": "text/x-python",
   "name": "python",
   "nbconvert_exporter": "python",
   "pygments_lexer": "ipython3",
   "version": "3.6.4"
  }
 },
 "nbformat": 4,
 "nbformat_minor": 2
}
