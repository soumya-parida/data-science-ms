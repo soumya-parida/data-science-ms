{
 "cells": [
  {
   "cell_type": "markdown",
   "metadata": {},
   "source": [
    "Pattern Printing\n",
    "\n",
    "Description\n",
    "Given a positive integer n. Print the pattern as shown in sample outputs.\n",
    "\n",
    "A code has already been provided. You have to understand the logic of the code on your own and try and make changes to the code so that it gives correct output.\n",
    "\n",
    "\n",
    "\n",
    "Input: A positive integer n\n",
    "\n",
    "1<= n <=9\n",
    "\n",
    "\n",
    "\n",
    "Output: Pattern as shown in examples below\n",
    "\n",
    "\n",
    "\n",
    "\n",
    "\n",
    "Sample input:\n",
    "\n",
    "4\n",
    "\n",
    "\n",
    "\n",
    "Sample output:\n",
    "\n",
    "4444444\n",
    "\n",
    "4333334\n",
    "\n",
    "4322234\n",
    "\n",
    "4321234\n",
    "\n",
    "4322234\n",
    "\n",
    "4333334\n",
    "\n",
    "4444444\n",
    "\n",
    "\n",
    "\n",
    "Sample input:\n",
    "\n",
    "5\n",
    "\n",
    "\n",
    "\n",
    "Sample output:\n",
    "\n",
    "555555555\n",
    "\n",
    "544444445\n",
    "\n",
    "543333345\n",
    "\n",
    "543222345\n",
    "\n",
    "543212345\n",
    "\n",
    "543222345\n",
    "\n",
    "543333345\n",
    "\n",
    "544444445\n",
    "\n",
    "555555555\n",
    "\n",
    "Execution Time Limit\n",
    "Default."
   ]
  },
  {
   "cell_type": "code",
   "execution_count": 27,
   "metadata": {},
   "outputs": [
    {
     "name": "stdout",
     "output_type": "stream",
     "text": [
      "1\n",
      "1\n"
     ]
    }
   ],
   "source": [
    "#input n taken here\n",
    "n=int(input())\n",
    "\n",
    "#we will make a list of lists with just [1] in it. We will run a for loop from i= 2 to n and in each iteration\n",
    "#we will add [i]*(2i-3) in top of the list and and in bottom\n",
    "#then add i on both sides of all sub_lists \n",
    "\n",
    "answer=[[1]]\n",
    "for i in range(2, n+1):\n",
    "    for a in answer:\n",
    "        a.insert(0,i)\n",
    "        a.append(i)\n",
    "    t= [i]*((2*i)-1)   \n",
    "    answer.insert(0, t)\n",
    "    answer.append(t.copy())    \n",
    "    \n",
    "\n",
    "answerfinal=[]\n",
    "#we join the elements of the string without space\n",
    "for a in answer:\n",
    "    for i in a:\n",
    "        print(i, end = '')\n",
    "    print()\n",
    "#print "
   ]
  },
  {
   "cell_type": "code",
   "execution_count": 36,
   "metadata": {},
   "outputs": [
    {
     "name": "stdout",
     "output_type": "stream",
     "text": [
      "mgfknf\n",
      "upGrad\n",
      "upGrad\n",
      "upGrad\n",
      "upGrad\n"
     ]
    }
   ],
   "source": [
    "print(\"m\", \"   gfknf   \".strip(), sep='')\n",
    "\n",
    "s= 'upgrad'\n",
    "s = s[:2] + s[2].upper() + s[3:]\n",
    "print(s)\n",
    "\n",
    "s = 'G'.join(['up', 'rad'])\n",
    "print(s)\n",
    "\n",
    "s='aabupGradaab'.strip('aab')\n",
    "print(s)\n",
    "\n",
    "s= 'aabupGradaab'.strip('a').strip('b').strip('a')\n",
    "print(s)"
   ]
  },
  {
   "cell_type": "code",
   "execution_count": 42,
   "metadata": {},
   "outputs": [
    {
     "name": "stdout",
     "output_type": "stream",
     "text": [
      "Hannah\n",
      "yes\n"
     ]
    }
   ],
   "source": [
    "s = input()\n",
    "if s.upper() == s[::-1].upper():\n",
    "    print('yes')\n",
    "else:\n",
    "    print('no')"
   ]
  },
  {
   "cell_type": "code",
   "execution_count": 46,
   "metadata": {},
   "outputs": [
    {
     "name": "stdout",
     "output_type": "stream",
     "text": [
      "\n"
     ]
    }
   ],
   "source": [
    "print('s'[1:2])"
   ]
  }
 ],
 "metadata": {
  "kernelspec": {
   "display_name": "Python 3",
   "language": "python",
   "name": "python3"
  },
  "language_info": {
   "codemirror_mode": {
    "name": "ipython",
    "version": 3
   },
   "file_extension": ".py",
   "mimetype": "text/x-python",
   "name": "python",
   "nbconvert_exporter": "python",
   "pygments_lexer": "ipython3",
   "version": "3.6.4"
  }
 },
 "nbformat": 4,
 "nbformat_minor": 2
}
