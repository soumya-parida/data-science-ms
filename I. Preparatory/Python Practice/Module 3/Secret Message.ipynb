{
 "cells": [
  {
   "cell_type": "markdown",
   "metadata": {},
   "source": [
    "Secret Message\n",
    "Description\n",
    "You write all your passwords in a diary so that you don't forget them. But clearly this is too risky, so you came up with a simple plan, you will simply write it by shifting all the alphabets by a certain step. For eg: if you decide your step to be 3, then 'a' will become 'd', and 'k' will become 'n' and so for all alphabets. The last alphabets will simply circle back to 'a'. In this case, 'y' will become 'b' and so on. Now you just have to remember the step size, can then you can check the password anytime you want. You decided to write code to do this, now that you have learned coding in python. Your code will take in the step size and what is written in the diary and give out the real password.\n",
    "\n",
    "----------------------------------------------------------------------\n",
    "Input:\n",
    "A list of two elements.\n",
    "The first element will be a string consisting of only alphabets which is taken from the diary and the second element will be the step size.\n",
    "\n",
    "Output:\n",
    "A string denoting the password\n",
    "\n",
    "----------------------------------------------------------------------\n",
    "Sample input:\n",
    "['ytKveh' 4]\n",
    "\n",
    "Sample output:\n",
    "upGrad\n",
    "\n",
    "Explanation:\n",
    "The password was 'upGrad'. Upon changing it by step of 4,\n",
    "u became y,\n",
    "p became t,\n",
    "G became K,\n",
    "r became v,\n",
    "a became e,\n",
    "d became h,\n",
    "and thus what was written in the diary was ytKveh \n",
    "\n",
    "----------------------------------------------------------------------\n",
    "Sample input:\n",
    "['banana', 7]\n",
    "\n",
    "Sample output:\n",
    "utgtgt"
   ]
  },
  {
   "cell_type": "code",
   "execution_count": 20,
   "metadata": {},
   "outputs": [
    {
     "name": "stdout",
     "output_type": "stream",
     "text": [
      "['banana', 33]\n",
      "utgtgt\n"
     ]
    }
   ],
   "source": [
    "import ast, sys\n",
    "inp = input()\n",
    "input_list = ast.literal_eval(inp)\n",
    "\n",
    "secret = input_list[0]\n",
    "step = int(input_list[1])\n",
    "\n",
    "lower_case = 'abcdefghijklmnopqrstuvwxyz'\n",
    "upper_case = 'ABCDEFGHIJKLMNOPQRSTUVWXYZ'\n",
    "\n",
    "password = ''\n",
    "\n",
    "step = step % 26\n",
    "    \n",
    "for ch in secret:\n",
    "    if ch in lower_case:\n",
    "        password = password + lower_case[lower_case.index(ch) - step]\n",
    "    elif ch in upper_case:\n",
    "        password = password + upper_case[upper_case.index(ch) - step]\n",
    "    else:\n",
    "        password = password + ch\n",
    "print(password)"
   ]
  },
  {
   "cell_type": "code",
   "execution_count": 28,
   "metadata": {},
   "outputs": [
    {
     "name": "stdout",
     "output_type": "stream",
     "text": [
      "369\n",
      "61725\n",
      "10102030405060708090\n"
     ]
    }
   ],
   "source": [
    "print(3+33+333)\n",
    "print(5+55+555+5555+55555)\n",
    "print(10 + 1010 + 101010 + 10101010 + 1010101010 + 101010101010 + 10101010101010 + 1010101010101010 + 10101010101010101010)"
   ]
  },
  {
   "cell_type": "code",
   "execution_count": 27,
   "metadata": {},
   "outputs": [
    {
     "name": "stdout",
     "output_type": "stream",
     "text": [
      "10\n",
      "10203040506070809100\n"
     ]
    }
   ],
   "source": [
    "inp = input()\n",
    "digits = len(inp.strip(' '))\n",
    "x = int(inp)\n",
    "total = 0\n",
    "for i in range(0, x):\n",
    "    total = total + (x*(10**(i*digits))*(x-i))\n",
    "\n",
    "print(total)"
   ]
  },
  {
   "cell_type": "code",
   "execution_count": 36,
   "metadata": {},
   "outputs": [
    {
     "ename": "TypeError",
     "evalue": "descriptor 'intersection' requires a 'set' object but received a 'list'",
     "output_type": "error",
     "traceback": [
      "\u001b[1;31m---------------------------------------------------------------------------\u001b[0m",
      "\u001b[1;31mTypeError\u001b[0m                                 Traceback (most recent call last)",
      "\u001b[1;32m<ipython-input-36-01ea01759e2a>\u001b[0m in \u001b[0;36m<module>\u001b[1;34m()\u001b[0m\n\u001b[0;32m      2\u001b[0m \u001b[0mB\u001b[0m\u001b[1;33m=\u001b[0m\u001b[0mset\u001b[0m\u001b[1;33m(\u001b[0m\u001b[1;33m[\u001b[0m\u001b[1;36m1\u001b[0m\u001b[1;33m,\u001b[0m\u001b[1;36m2\u001b[0m\u001b[1;33m,\u001b[0m\u001b[1;36m3\u001b[0m\u001b[1;33m]\u001b[0m\u001b[1;33m)\u001b[0m\u001b[1;33m\u001b[0m\u001b[0m\n\u001b[0;32m      3\u001b[0m \u001b[0mC\u001b[0m\u001b[1;33m=\u001b[0m\u001b[0mset\u001b[0m\u001b[1;33m(\u001b[0m\u001b[1;33m[\u001b[0m\u001b[1;36m2\u001b[0m\u001b[1;33m,\u001b[0m\u001b[1;36m3\u001b[0m\u001b[1;33m]\u001b[0m\u001b[1;33m)\u001b[0m\u001b[1;33m\u001b[0m\u001b[0m\n\u001b[1;32m----> 4\u001b[1;33m \u001b[0mD\u001b[0m\u001b[1;33m=\u001b[0m\u001b[0mset\u001b[0m\u001b[1;33m.\u001b[0m\u001b[0mintersection\u001b[0m\u001b[1;33m(\u001b[0m\u001b[1;33m[\u001b[0m\u001b[0mA\u001b[0m\u001b[1;33m,\u001b[0m\u001b[0mB\u001b[0m\u001b[1;33m,\u001b[0m\u001b[0mC\u001b[0m\u001b[1;33m]\u001b[0m\u001b[1;33m)\u001b[0m\u001b[1;33m\u001b[0m\u001b[0m\n\u001b[0m\u001b[0;32m      5\u001b[0m \u001b[0mprint\u001b[0m\u001b[1;33m(\u001b[0m\u001b[0mD\u001b[0m\u001b[1;33m)\u001b[0m\u001b[1;33m\u001b[0m\u001b[0m\n",
      "\u001b[1;31mTypeError\u001b[0m: descriptor 'intersection' requires a 'set' object but received a 'list'"
     ]
    }
   ],
   "source": [
    "A= set([1,2])\n",
    "B=set([1,2,3])\n",
    "C=set([2,3])\n",
    "D=set.intersection([A,B,C])\n",
    "print(D)"
   ]
  },
  {
   "cell_type": "code",
   "execution_count": 39,
   "metadata": {},
   "outputs": [
    {
     "name": "stdout",
     "output_type": "stream",
     "text": [
      "$yrr$ssrsr%\n",
      "{'$': 2, 'y': 1, 'r': 4, 's': 3, '%': 1}\n",
      "False\n"
     ]
    }
   ],
   "source": [
    "s = input()\n",
    "\n",
    "d = {}\n",
    "\n",
    "for i in s:\n",
    "    if i not in d:\n",
    "        d[i] = 1\n",
    "    else: \n",
    "        d[i] = d[i] + 1\n",
    "vals = d.values()\n",
    "\n",
    "n = len(d)\n",
    "\n",
    "def upgrad_string(vals):\n",
    "    for i in range(1, n+1):\n",
    "        if i not in vals:\n",
    "            return False\n",
    "    return True\n",
    "print(d)\n",
    "print(upgrad_string(vals))"
   ]
  }
 ],
 "metadata": {
  "kernelspec": {
   "display_name": "Python 3",
   "language": "python",
   "name": "python3"
  },
  "language_info": {
   "codemirror_mode": {
    "name": "ipython",
    "version": 3
   },
   "file_extension": ".py",
   "mimetype": "text/x-python",
   "name": "python",
   "nbconvert_exporter": "python",
   "pygments_lexer": "ipython3",
   "version": "3.6.4"
  }
 },
 "nbformat": 4,
 "nbformat_minor": 2
}
