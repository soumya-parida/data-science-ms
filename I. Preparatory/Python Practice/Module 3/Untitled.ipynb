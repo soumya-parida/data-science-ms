{
 "cells": [
  {
   "cell_type": "code",
   "execution_count": 30,
   "metadata": {},
   "outputs": [
    {
     "ename": "SyntaxError",
     "evalue": "invalid syntax (<ipython-input-30-85d71419a206>, line 10)",
     "output_type": "error",
     "traceback": [
      "\u001b[1;36m  File \u001b[1;32m\"<ipython-input-30-85d71419a206>\"\u001b[1;36m, line \u001b[1;32m10\u001b[0m\n\u001b[1;33m    if(inp == '=')\u001b[0m\n\u001b[1;37m                  ^\u001b[0m\n\u001b[1;31mSyntaxError\u001b[0m\u001b[1;31m:\u001b[0m invalid syntax\n"
     ]
    }
   ],
   "source": [
    "o = 'opr'\n",
    "n = 'num'\n",
    "eq = []\n",
    "while(1):\n",
    "    inp = input()\n",
    "    inp_type = lambda x: n if str.isnumeric(inp) else o\n",
    "    if(len(eq) == 0 & inp_type == o):\n",
    "        continue\n",
    "    if(inp_type == o):\n",
    "        if(inp == '=')\n",
    "            \n",
    "    if(str.isnumeric(inp)):\n",
    "        eq.append(inp)\n",
    "        "
   ]
  },
  {
   "cell_type": "code",
   "execution_count": null,
   "metadata": {},
   "outputs": [],
   "source": [
    "n=int(input())\n",
    "\n",
    "a = n\n",
    "c = 0\n",
    "while(a > 0):    \n",
    "    c = c + (a%10) ** 3\n",
    "    a = a//10\n",
    "    \n",
    "print(n == c)"
   ]
  },
  {
   "cell_type": "code",
   "execution_count": 6,
   "metadata": {},
   "outputs": [
    {
     "name": "stdout",
     "output_type": "stream",
     "text": [
      "0\n"
     ]
    }
   ],
   "source": [
    "n = int(input())\n",
    "x0 = 0\n",
    "x1 = 1\n",
    "for i in range(n):\n",
    "    if i == 0:\n",
    "        x0 = 0\n",
    "        print(x0)\n",
    "    elif i == 1:\n",
    "        x1 = 1\n",
    "        print(x1)\n",
    "    else:\n",
    "        x1, x0 = x1 + x0, x1\n",
    "        print(x1)"
   ]
  },
  {
   "cell_type": "code",
   "execution_count": 24,
   "metadata": {},
   "outputs": [
    {
     "name": "stdout",
     "output_type": "stream",
     "text": [
      "0\n",
      "0\n"
     ]
    }
   ],
   "source": [
    "n = int(input())\n",
    "prime_sum = 0\n",
    "\n",
    "def is_prime(i):\n",
    "    sq = int(i**0.5)    \n",
    "    for f in range(2, sq + 1):\n",
    "        if(i%f == 0):\n",
    "            return False\n",
    "    return True\n",
    "\n",
    "for i in range(2, n + 1):\n",
    "    if is_prime(i):\n",
    "        prime_sum = prime_sum + i\n",
    "        \n",
    "print(prime_sum)\n"
   ]
  },
  {
   "cell_type": "code",
   "execution_count": 1,
   "metadata": {},
   "outputs": [
    {
     "name": "stdout",
     "output_type": "stream",
     "text": [
      "0\n"
     ]
    },
    {
     "ename": "IndexError",
     "evalue": "list index out of range",
     "output_type": "error",
     "traceback": [
      "\u001b[1;31m---------------------------------------------------------------------------\u001b[0m",
      "\u001b[1;31mIndexError\u001b[0m                                Traceback (most recent call last)",
      "\u001b[1;32m<ipython-input-1-f92d4af67b21>\u001b[0m in \u001b[0;36m<module>\u001b[1;34m()\u001b[0m\n\u001b[0;32m      3\u001b[0m \u001b[1;33m\u001b[0m\u001b[0m\n\u001b[0;32m      4\u001b[0m \u001b[0mm\u001b[0m \u001b[1;33m=\u001b[0m \u001b[0mint\u001b[0m\u001b[1;33m(\u001b[0m\u001b[0minp_list\u001b[0m\u001b[1;33m[\u001b[0m\u001b[1;36m0\u001b[0m\u001b[1;33m]\u001b[0m\u001b[1;33m)\u001b[0m\u001b[1;33m\u001b[0m\u001b[0m\n\u001b[1;32m----> 5\u001b[1;33m \u001b[0mc\u001b[0m \u001b[1;33m=\u001b[0m \u001b[0mint\u001b[0m\u001b[1;33m(\u001b[0m\u001b[0minp_list\u001b[0m\u001b[1;33m[\u001b[0m\u001b[1;36m1\u001b[0m\u001b[1;33m]\u001b[0m\u001b[1;33m)\u001b[0m\u001b[1;33m\u001b[0m\u001b[0m\n\u001b[0m\u001b[0;32m      6\u001b[0m \u001b[0mw\u001b[0m \u001b[1;33m=\u001b[0m \u001b[0mint\u001b[0m\u001b[1;33m(\u001b[0m\u001b[0minp_list\u001b[0m\u001b[1;33m[\u001b[0m\u001b[1;36m2\u001b[0m\u001b[1;33m]\u001b[0m\u001b[1;33m)\u001b[0m\u001b[1;33m\u001b[0m\u001b[0m\n\u001b[0;32m      7\u001b[0m \u001b[0mk\u001b[0m \u001b[1;33m=\u001b[0m \u001b[0mint\u001b[0m\u001b[1;33m(\u001b[0m\u001b[0minp_list\u001b[0m\u001b[1;33m[\u001b[0m\u001b[1;36m3\u001b[0m\u001b[1;33m]\u001b[0m\u001b[1;33m)\u001b[0m\u001b[1;33m\u001b[0m\u001b[0m\n",
      "\u001b[1;31mIndexError\u001b[0m: list index out of range"
     ]
    }
   ],
   "source": [
    "inp_val = input()\n",
    "inp_list = inp_val.split(',')\n",
    "\n",
    "m = int(inp_list[0])\n",
    "c = int(inp_list[1])\n",
    "w = int(inp_list[2])\n",
    "k = int(inp_list[3])\n",
    "\n",
    "bought = m//c\n",
    "wrappers = bought\n",
    "while(wrappers >= w):\n",
    "    bought = bought + (wrappers//w) * k\n",
    "    wrappers = wrappers%w + (wrappers//w) * k\n",
    "    print(bought, wrappers)\n",
    "    \n",
    "print(bought)\n"
   ]
  },
  {
   "cell_type": "code",
   "execution_count": 9,
   "metadata": {},
   "outputs": [
    {
     "name": "stdout",
     "output_type": "stream",
     "text": [
      "[20, 40, 60, 80]\n"
     ]
    }
   ],
   "source": [
    "L=[10,20,30,40,50,60,70,80,90,100]\n",
    "print([L[i] for i in range(1,9,2)])\n"
   ]
  },
  {
   "cell_type": "code",
   "execution_count": 32,
   "metadata": {},
   "outputs": [
    {
     "name": "stdout",
     "output_type": "stream",
     "text": [
      "-7\n",
      "-3\n",
      "1.6\n",
      "1.6\n"
     ]
    }
   ],
   "source": [
    "import numpy as np\n",
    "a = [-3, -3, 0, -7, 21]\n",
    "if len(a) < 2:\n",
    "    print('no minimum')\n",
    "m = a[0]\n",
    "m2 = None\n",
    "for i in range(1, len(a)):\n",
    "    if a[i] < m:\n",
    "        m2 = m\n",
    "        m = a[i]\n",
    "    elif a[i] > m:\n",
    "        if m2 is None or a[i] < m2:\n",
    "            m2 = a[i]\n",
    "         \n",
    "print(m)\n",
    "\n",
    "print(m2)\n",
    "print(np.average(a))\n",
    "print(sum(a)/len(a))"
   ]
  },
  {
   "cell_type": "code",
   "execution_count": 39,
   "metadata": {},
   "outputs": [
    {
     "name": "stdout",
     "output_type": "stream",
     "text": [
      "0\n",
      "0\n"
     ]
    },
    {
     "ename": "TypeError",
     "evalue": "'int' object is not iterable",
     "output_type": "error",
     "traceback": [
      "\u001b[1;31m---------------------------------------------------------------------------\u001b[0m",
      "\u001b[1;31mTypeError\u001b[0m                                 Traceback (most recent call last)",
      "\u001b[1;32m<ipython-input-39-c9b2edcca220>\u001b[0m in \u001b[0;36m<module>\u001b[1;34m()\u001b[0m\n\u001b[0;32m      8\u001b[0m     \u001b[1;32mreturn\u001b[0m\u001b[1;33m(\u001b[0m\u001b[1;32mTrue\u001b[0m \u001b[1;32mif\u001b[0m \u001b[0mcheck\u001b[0m \u001b[1;33m>\u001b[0m \u001b[0mnp\u001b[0m\u001b[1;33m.\u001b[0m\u001b[0maverage\u001b[0m\u001b[1;33m(\u001b[0m\u001b[0mdata\u001b[0m\u001b[1;33m)\u001b[0m \u001b[1;32melse\u001b[0m \u001b[1;32mFalse\u001b[0m\u001b[1;33m)\u001b[0m\u001b[1;33m\u001b[0m\u001b[0m\n\u001b[0;32m      9\u001b[0m \u001b[1;33m\u001b[0m\u001b[0m\n\u001b[1;32m---> 10\u001b[1;33m \u001b[1;32mfor\u001b[0m \u001b[0mapp\u001b[0m \u001b[1;32min\u001b[0m \u001b[0mapplicant\u001b[0m\u001b[1;33m:\u001b[0m\u001b[1;33m\u001b[0m\u001b[0m\n\u001b[0m\u001b[0;32m     11\u001b[0m     \u001b[1;32mif\u001b[0m \u001b[0mcheck_above_average\u001b[0m\u001b[1;33m(\u001b[0m\u001b[0mteam\u001b[0m\u001b[1;33m,\u001b[0m \u001b[0mapp\u001b[0m\u001b[1;33m)\u001b[0m\u001b[1;33m:\u001b[0m\u001b[1;33m\u001b[0m\u001b[0m\n\u001b[0;32m     12\u001b[0m         \u001b[0mteam\u001b[0m\u001b[1;33m.\u001b[0m\u001b[0mappend\u001b[0m\u001b[1;33m(\u001b[0m\u001b[0mapp\u001b[0m\u001b[1;33m)\u001b[0m\u001b[1;33m\u001b[0m\u001b[0m\n",
      "\u001b[1;31mTypeError\u001b[0m: 'int' object is not iterable"
     ]
    }
   ],
   "source": [
    "import numpy as np\n",
    "import functools as ft\n",
    "import ast\n",
    "team = ast.literal_eval(input())\n",
    "applicant = ast.literal_eval(input())\n",
    "\n",
    "def check_above_average(data, check):\n",
    "    return(True if check > np.average(data) else False)\n",
    "\n",
    "for app in applicant:\n",
    "    if check_above_average(team, app):\n",
    "        team.append(app)\n",
    "\n",
    "print(team)"
   ]
  },
  {
   "cell_type": "code",
   "execution_count": null,
   "metadata": {},
   "outputs": [],
   "source": [
    "import ast\n",
    "input_str1 = input()\n",
    "input_list1 = ast.literal_eval(input_str1)\n",
    "events = input_list1\n",
    "\n",
    "wedding = int(input())\n",
    "\n",
    "\n",
    "\n",
    "clash = list(filter(lambda event: True if wedding >= event[0] and wedding <= event[1] else False, events))\n",
    "print(len(clash))"
   ]
  },
  {
   "cell_type": "code",
   "execution_count": 58,
   "metadata": {},
   "outputs": [
    {
     "name": "stdout",
     "output_type": "stream",
     "text": [
      "2,3\n",
      "[0, 0, 0]\n"
     ]
    }
   ],
   "source": [
    "import ast\n",
    "mylist = ast.literal_eval(input())\n",
    "m = mylist[0]\n",
    "n = mylist[1]\n",
    "\n",
    "final = [0]*n\n",
    "print(final)"
   ]
  },
  {
   "cell_type": "code",
   "execution_count": 57,
   "metadata": {},
   "outputs": [
    {
     "name": "stdout",
     "output_type": "stream",
     "text": [
      "[0, 0, 0]\n",
      "[0, 0, 0]\n",
      "[0, 0, 0]\n",
      "True\n",
      "True\n",
      "True\n"
     ]
    }
   ],
   "source": [
    "original_list=[0, 0, 0]\n",
    "copy1=original_list\n",
    "copy2=list(original_list)\n",
    "copy3=list.copy(original_list)\n",
    "#original_list[0] = 1\n",
    "print(copy1)\n",
    "print(copy2)\n",
    "print(copy3)\n",
    "print(copy1 == original_list)\n",
    "print(copy2 == original_list)\n",
    "print(copy3 == original_list)"
   ]
  }
 ],
 "metadata": {
  "kernelspec": {
   "display_name": "Python 3",
   "language": "python",
   "name": "python3"
  },
  "language_info": {
   "codemirror_mode": {
    "name": "ipython",
    "version": 3
   },
   "file_extension": ".py",
   "mimetype": "text/x-python",
   "name": "python",
   "nbconvert_exporter": "python",
   "pygments_lexer": "ipython3",
   "version": "3.6.4"
  }
 },
 "nbformat": 4,
 "nbformat_minor": 2
}
