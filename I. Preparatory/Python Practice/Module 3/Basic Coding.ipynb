{
 "cells": [
  {
   "cell_type": "markdown",
   "metadata": {},
   "source": [
    "## Graded Questions ##"
   ]
  },
  {
   "cell_type": "markdown",
   "metadata": {},
   "source": [
    "#### Basic Coding ####"
   ]
  },
  {
   "cell_type": "markdown",
   "metadata": {},
   "source": [
    "** Question 1 **"
   ]
  },
  {
   "cell_type": "code",
   "execution_count": 4,
   "metadata": {},
   "outputs": [
    {
     "name": "stdout",
     "output_type": "stream",
     "text": [
      "371\n",
      "True\n"
     ]
    }
   ],
   "source": [
    "n=int(input())\n",
    "\n",
    "m = n\n",
    "armstrong = 0\n",
    "while(m > 0): \n",
    "    rem = m % 10\n",
    "    armstrong = armstrong + (rem ** 3)\n",
    "    m = m//10\n",
    "if(n == armstrong):\n",
    "    print('True')\n",
    "else:\n",
    "    print('False')"
   ]
  },
  {
   "cell_type": "code",
   "execution_count": 6,
   "metadata": {},
   "outputs": [
    {
     "name": "stdout",
     "output_type": "stream",
     "text": [
      "7\n",
      "0\n",
      "1\n",
      "1\n",
      "2\n",
      "3\n",
      "5\n",
      "8\n"
     ]
    }
   ],
   "source": [
    "n=int(input())\n",
    "#write your code here\n",
    "a = 0\n",
    "b = 1\n",
    "for i in range(n):\n",
    "    if i == 0:\n",
    "        print(a)\n",
    "    elif i == 1:\n",
    "        print(b)\n",
    "    else:\n",
    "        fib = a + b\n",
    "        a = b\n",
    "        b = fib\n",
    "        print(fib)"
   ]
  },
  {
   "cell_type": "code",
   "execution_count": 18,
   "metadata": {},
   "outputs": [
    {
     "name": "stdout",
     "output_type": "stream",
     "text": [
      "10\n",
      "17\n"
     ]
    }
   ],
   "source": [
    "n=int(input())#find the sum of primes from 2 to n \n",
    "prime_sum = 0\n",
    "\n",
    "def is_prime_num(i):\n",
    "    mid = i//2   \n",
    "    for f in range(2, mid + 1):\n",
    "        if(i%f == 0):\n",
    "            return False\n",
    "    return True\n",
    "\n",
    "for i in range(2, n + 1):\n",
    "    if is_prime_num(i):\n",
    "        prime_sum = prime_sum + i\n",
    "        \n",
    "print(prime_sum)"
   ]
  },
  {
   "cell_type": "code",
   "execution_count": 23,
   "metadata": {},
   "outputs": [
    {
     "name": "stdout",
     "output_type": "stream",
     "text": [
      "3000, 13, 12, 6\n",
      "452\n"
     ]
    }
   ],
   "source": [
    "#take input here\n",
    "inp_val = input()\n",
    "\n",
    "#start writing your code here\n",
    "\n",
    "inp_list = inp_val.split(',')\n",
    "\n",
    "m = int(inp_list[0])\n",
    "c = int(inp_list[1])\n",
    "w = int(inp_list[2])\n",
    "k = int(inp_list[3])\n",
    "\n",
    "t = m//c\n",
    "tw = t\n",
    "while(tw >= w):\n",
    "    t = t + (tw//w) * k\n",
    "    tw = tw%w + (tw//w) * k\n",
    "    \n",
    "print(t)"
   ]
  }
 ],
 "metadata": {
  "kernelspec": {
   "display_name": "Python 3",
   "language": "python",
   "name": "python3"
  },
  "language_info": {
   "codemirror_mode": {
    "name": "ipython",
    "version": 3
   },
   "file_extension": ".py",
   "mimetype": "text/x-python",
   "name": "python",
   "nbconvert_exporter": "python",
   "pygments_lexer": "ipython3",
   "version": "3.6.4"
  }
 },
 "nbformat": 4,
 "nbformat_minor": 2
}
