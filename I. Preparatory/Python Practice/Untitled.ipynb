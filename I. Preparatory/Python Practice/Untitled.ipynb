{
 "cells": [
  {
   "cell_type": "markdown",
   "metadata": {},
   "source": [
    "___Kickstarting Python Learning for MS in Data Science___"
   ]
  },
  {
   "cell_type": "code",
   "execution_count": 4,
   "metadata": {},
   "outputs": [
    {
     "name": "stdout",
     "output_type": "stream",
     "text": [
      "Enter your name: Soumya Prakash Parida\n",
      "Hello.  Soumya Prakash Parida\n"
     ]
    }
   ],
   "source": [
    "Name = input(\"Enter your name: \")\n",
    "print(\"Hello. \", Name)"
   ]
  },
  {
   "cell_type": "code",
   "execution_count": 8,
   "metadata": {},
   "outputs": [
    {
     "name": "stdout",
     "output_type": "stream",
     "text": [
      "Hello, \n",
      "Who's this?\r",
      "This is a new line.\n"
     ]
    }
   ],
   "source": [
    "print(\"Hello, \\nWho\\'s this?\\rThis is a new line.\")"
   ]
  },
  {
   "cell_type": "code",
   "execution_count": 18,
   "metadata": {},
   "outputs": [
    {
     "ename": "SyntaxError",
     "evalue": "invalid syntax (<ipython-input-18-214273ece7ef>, line 3)",
     "output_type": "error",
     "traceback": [
      "\u001b[1;36m  File \u001b[1;32m\"<ipython-input-18-214273ece7ef>\"\u001b[1;36m, line \u001b[1;32m3\u001b[0m\n\u001b[1;33m    print(\"Yes\" + \"s\" * int(count++) + \", Please...\")\u001b[0m\n\u001b[1;37m                                   ^\u001b[0m\n\u001b[1;31mSyntaxError\u001b[0m\u001b[1;31m:\u001b[0m invalid syntax\n"
     ]
    }
   ],
   "source": [
    "count = input(\"? \")\n",
    "x = 's' * int(count)\n",
    "print(\"Yes\" + \"s\" * int(count) + \", Please...\")"
   ]
  },
  {
   "cell_type": "code",
   "execution_count": 20,
   "metadata": {},
   "outputs": [
    {
     "name": "stdout",
     "output_type": "stream",
     "text": [
      "This sentence has spaces at the end.     ....\n",
      "This sentence has spaces at the end.....\n"
     ]
    }
   ],
   "source": [
    "sentence = \"This sentence has spaces at the end.     \"\n",
    "print(sentence + \"....\")\n",
    "print(sentence.rstrip() + \"....\")"
   ]
  },
  {
   "cell_type": "code",
   "execution_count": 26,
   "metadata": {},
   "outputs": [
    {
     "name": "stdout",
     "output_type": "stream",
     "text": [
      "This sentence has spaces at the en....\n"
     ]
    }
   ],
   "source": [
    "print(sentence.rstrip('. d') + \"....\")"
   ]
  },
  {
   "cell_type": "code",
   "execution_count": 32,
   "metadata": {},
   "outputs": [
    {
     "name": "stdout",
     "output_type": "stream",
     "text": [
      "Ravi\n",
      "Kumar\n",
      "003\n"
     ]
    }
   ],
   "source": [
    "name = \"Kumar_Ravi_003\"\n",
    "\n",
    "print(name.split(\"_\")[1])\n",
    "print(name.split(\"_\")[0])\n",
    "print(name.split(\"_\")[2])      "
   ]
  },
  {
   "cell_type": "code",
   "execution_count": 40,
   "metadata": {},
   "outputs": [
    {
     "name": "stdout",
     "output_type": "stream",
     "text": [
      "<class 'str'>\n"
     ]
    }
   ],
   "source": [
    "x = \"3.0\"\n",
    "print(type(x))"
   ]
  },
  {
   "cell_type": "code",
   "execution_count": 66,
   "metadata": {},
   "outputs": [
    {
     "name": "stdout",
     "output_type": "stream",
     "text": [
      "<class 'float'>\n",
      "-51.0\n"
     ]
    }
   ],
   "source": [
    "x = 2+4-2*4+8/4-2-9*(4+2)+5\n",
    "print(type(x))\n",
    "print(x)"
   ]
  },
  {
   "cell_type": "code",
   "execution_count": 92,
   "metadata": {},
   "outputs": [
    {
     "name": "stdout",
     "output_type": "stream",
     "text": [
      "False\n",
      "True\n",
      "True\n",
      "True\n"
     ]
    }
   ],
   "source": [
    "print(4 > 5 or 3 > 4 and 9 > 8 or 2 > 10)\n",
    "print(4 > 5 or (3 < 4 and 9 > 8) or 2 > 10)\n",
    "print(4 > 5 or 3 < 4 and 9 > 8 or 2 > 10)\n",
    "print(True and False or False or True)"
   ]
  },
  {
   "cell_type": "code",
   "execution_count": 111,
   "metadata": {},
   "outputs": [
    {
     "name": "stdout",
     "output_type": "stream",
     "text": [
      "['1', '2', '3']\n",
      "333\n",
      "['1', '2', '3']\n",
      "['1', '3', '2', '3']\n"
     ]
    }
   ],
   "source": [
    "my_list = ['1', '2', '3']\n",
    "print(my_list)\n",
    "x = str(my_list.pop(2))\n",
    "print(x*3)\n",
    "my_list.append('3')\n",
    "print(my_list)\n",
    "my_list.insert(-2, '3')\n",
    "print(my_list)"
   ]
  },
  {
   "cell_type": "code",
   "execution_count": 119,
   "metadata": {},
   "outputs": [
    {
     "name": "stdout",
     "output_type": "stream",
     "text": [
      "This sentence has a tab\t, new line \n",
      " and carriage return\r",
      ". See how it's printed.\n",
      "['This', 'sentence', 'has', 'a', 'tab', ',', 'new', 'line', 'and', 'carriage', 'return', '.', 'See', 'how', \"it's\", 'printed.']\n"
     ]
    }
   ],
   "source": [
    "sentence = \"This sentence has a tab\\t, new line \\n and carriage return\\r. See how it's printed.\"\n",
    "print(sentence)\n",
    "print(sentence.split())"
   ]
  },
  {
   "cell_type": "code",
   "execution_count": 136,
   "metadata": {},
   "outputs": [
    {
     "name": "stdout",
     "output_type": "stream",
     "text": [
      "[2, 5, 6, 2, 3, 4, 7]\n"
     ]
    }
   ],
   "source": [
    "my_list = [2,5,6,7]\n",
    "my_list[len(my_list)-1:0] = [2,3,4]\n",
    "print(my_list)"
   ]
  },
  {
   "cell_type": "code",
   "execution_count": 138,
   "metadata": {},
   "outputs": [
    {
     "name": "stdout",
     "output_type": "stream",
     "text": [
      "-1\n"
     ]
    }
   ],
   "source": [
    "print(-4 % -3)"
   ]
  },
  {
   "cell_type": "code",
   "execution_count": 145,
   "metadata": {},
   "outputs": [],
   "source": [
    "from functools import reduce\n",
    "def factorial(n):\n",
    "    if n==0:\n",
    "        return 1\n",
    "    else:\n",
    "        return reduce(lambda x,y:x*y, range(1,n+1))"
   ]
  },
  {
   "cell_type": "code",
   "execution_count": null,
   "metadata": {},
   "outputs": [],
   "source": [
    "factorial(10000000)"
   ]
  },
  {
   "cell_type": "code",
   "execution_count": 152,
   "metadata": {},
   "outputs": [
    {
     "name": "stdout",
     "output_type": "stream",
     "text": [
      "PAul_Susmita_005\n",
      "Susmita\n",
      "PAul\n",
      "005\n"
     ]
    }
   ],
   "source": [
    "import ast, sys\n",
    "input_str = input()\n",
    "names = input_str.split('_')\n",
    "first_name = names[1]\n",
    "second_name = names[0]\n",
    "customer_code = names[2]\n",
    "print(first_name)\n",
    "print(second_name)\n",
    "print(customer_code)"
   ]
  },
  {
   "cell_type": "code",
   "execution_count": null,
   "metadata": {},
   "outputs": [],
   "source": []
  }
 ],
 "metadata": {
  "kernelspec": {
   "display_name": "Python 3",
   "language": "python",
   "name": "python3"
  },
  "language_info": {
   "codemirror_mode": {
    "name": "ipython",
    "version": 3
   },
   "file_extension": ".py",
   "mimetype": "text/x-python",
   "name": "python",
   "nbconvert_exporter": "python",
   "pygments_lexer": "ipython3",
   "version": "3.6.4"
  }
 },
 "nbformat": 4,
 "nbformat_minor": 2
}
