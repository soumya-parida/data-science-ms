{
 "cells": [
  {
   "cell_type": "code",
   "execution_count": null,
   "metadata": {},
   "outputs": [],
   "source": [
    "n=int(input())\n",
    "Pascal_List = []\n",
    "for i in range(n):    \n",
    "    Pascal_List.append([])            \n",
    "    Pascal_List[i].append(1)    \n",
    "    if n > 1:        \n",
    "        for j in range(1,i):            \n",
    "            Pascal_List[i].append(Pascal_List[i-1][j-1] + Pascal_List[i-1][j])        \n",
    "    if(n!=0):            \n",
    "        Pascal_List[i].append(1)\n",
    "print(Pascal_List[-1])"
   ]
  }
 ],
 "metadata": {
  "kernelspec": {
   "display_name": "Python 3",
   "language": "python",
   "name": "python3"
  },
  "language_info": {
   "codemirror_mode": {
    "name": "ipython",
    "version": 3
   },
   "file_extension": ".py",
   "mimetype": "text/x-python",
   "name": "python",
   "nbconvert_exporter": "python",
   "pygments_lexer": "ipython3",
   "version": "3.6.4"
  }
 },
 "nbformat": 4,
 "nbformat_minor": 2
}
